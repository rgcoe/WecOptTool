{
 "cells": [
  {
   "cell_type": "code",
   "execution_count": null,
   "id": "8853828b",
   "metadata": {},
   "outputs": [],
   "source": [
    "import autograd.numpy as np\n",
    "import capytaine as cpy\n",
    "from capytaine.io.meshio import load_from_meshio\n",
    "import matplotlib.pyplot as plt\n",
    "import xarray as xr\n",
    "\n",
    "import wecopttool as wot\n",
    "\n",
    "## set colorblind-friendly colormap for plots\n",
    "plt.style.use('tableau-colorblind10')"
   ]
  },
  {
   "cell_type": "code",
   "execution_count": null,
   "id": "ce925137",
   "metadata": {},
   "outputs": [],
   "source": [
    "wavefreq = 0.3 # Hz\n",
    "f1 = wavefreq\n",
    "nfreq = 10\n",
    "\n",
    "freq = wot.frequency(f1, nfreq, False) # False -> no zero frequency"
   ]
  },
  {
   "cell_type": "code",
   "execution_count": null,
   "id": "c96ee071",
   "metadata": {},
   "outputs": [],
   "source": [
    "amplitude = 0.0625 # m\n",
    "phase = 30 # degrees\n",
    "wavedir = 0 # degrees\n",
    "\n",
    "waves = wot.waves.regular_wave(f1, nfreq, wavefreq, amplitude, phase, wavedir)"
   ]
  },
  {
   "cell_type": "code",
   "execution_count": null,
   "id": "7d92e88b",
   "metadata": {},
   "outputs": [],
   "source": [
    "wb = wot.geom.WaveBot()  # use standard dimensions\n",
    "mesh_size_factor = 0.2 # 1.0 for default, smaller to refine mesh\n",
    "mesh = wb.mesh(mesh_size_factor)\n",
    "\n",
    "# create mesh object for WaveBot and add internal lid\n",
    "mesh_obj = load_from_meshio(mesh, 'WaveBot')\n",
    "lid_mesh = mesh_obj.generate_lid(-2e-2)\n",
    "\n",
    "fb = cpy.FloatingBody(mesh=mesh_obj, lid_mesh=lid_mesh, name=\"WaveBot\")"
   ]
  },
  {
   "cell_type": "code",
   "execution_count": null,
   "id": "069eb638",
   "metadata": {},
   "outputs": [],
   "source": [
    "fb.add_translation_dof(name=\"Heave\")\n",
    "ndof = fb.nb_dofs"
   ]
  },
  {
   "cell_type": "code",
   "execution_count": null,
   "id": "ae2c97d5",
   "metadata": {},
   "outputs": [],
   "source": [
    "bem_data = wot.run_bem(fb, freq)"
   ]
  },
  {
   "cell_type": "code",
   "execution_count": null,
   "id": "1ce52896",
   "metadata": {},
   "outputs": [],
   "source": [
    "hd = wot.add_linear_friction(bem_data, friction=500) \n",
    "# we're not actually adding friction, but need the datavariables in hd \n",
    "hd = wot.check_radiation_damping(hd)\n",
    "\n",
    "intrinsic_impedance = wot.hydrodynamic_impedance(hd)\n",
    "fig, axes = wot.utilities.plot_bode_impedance(intrinsic_impedance,\n",
    "                                              'WaveBot Intrinsic Impedance')"
   ]
  },
  {
   "cell_type": "code",
   "execution_count": null,
   "id": "121773d5",
   "metadata": {},
   "outputs": [],
   "source": [
    "ptos = {\n",
    "    'unstructured': wot.pto.PTO(ndof,\n",
    "                                kinematics=np.eye(ndof),\n",
    "                                controller=None,\n",
    "                                impedance=None,\n",
    "                                loss=None,\n",
    "                                names=[\"PTO_Heave\",]),\n",
    "    'pi': wot.pto.PTO(ndof,\n",
    "                      kinematics=np.eye(ndof),\n",
    "                      #   controller=wot.pto.controller_pi, #TODO\n",
    "                      controller=wot.controllers.pid_controller(1,True,True,False),\n",
    "                      impedance=None,\n",
    "                      loss=None,\n",
    "                      names=[\"PTO_Heave\",]),\n",
    "    'p': wot.pto.PTO(ndof,\n",
    "                     kinematics=np.eye(ndof),\n",
    "                     #   controller=wot.pto.controller_pi, #TODO\n",
    "                     controller=wot.controllers.pid_controller(1,True,False,False),\n",
    "                     impedance=None,\n",
    "                     loss=None,\n",
    "                     names=[\"PTO_Heave\",]),\n",
    "}"
   ]
  },
  {
   "cell_type": "code",
   "execution_count": null,
   "id": "638958ec",
   "metadata": {},
   "outputs": [],
   "source": [
    "# Constraint\n",
    "f_max = 750.0\n",
    "nsubsteps = 4\n",
    "\n",
    "wecs = {}\n",
    "obj_funs = {}\n",
    "nstate_opts = {}\n",
    "for key in ptos:\n",
    "    \n",
    "    def const_f_pto(wec, x_wec, x_opt, waves): # Format for scipy.optimize.minimize\n",
    "        f = ptos[key].force(wec, x_wec, x_opt, waves, nsubsteps)\n",
    "        return f_max - np.abs(f.flatten())\n",
    "\n",
    "    constraints = [{'type': 'ineq', 'fun': const_f_pto,}]\n",
    "    \n",
    "    wecs[key] = wot.WEC.from_bem(\n",
    "        hd,\n",
    "        constraints=constraints,  # TODO\n",
    "        friction=None,\n",
    "        f_add={'PTO': ptos[key].force_on_wec})\n",
    "    obj_funs[key] = ptos[key].mechanical_average_power\n",
    "    if key == 'pi':\n",
    "        nstate_opts[key] = 2\n",
    "    elif key == 'p':\n",
    "        nstate_opts[key] = 1\n",
    "    elif key == 'unstructured':\n",
    "        nstate_opts[key] = 2*nfreq"
   ]
  },
  {
   "cell_type": "code",
   "execution_count": null,
   "id": "c917b6ce",
   "metadata": {},
   "outputs": [],
   "source": [
    "pto_ds_list = []\n",
    "wec_ds_list = []\n",
    "\n",
    "results = {}\n",
    "for key in wecs:\n",
    "    print('\\n-------------------------------')\n",
    "    print(f'Running case: {key} controller')\n",
    "    results[key] = wecs[key].solve(\n",
    "        waves, \n",
    "        obj_funs[key], \n",
    "        nstate_opts[key],\n",
    "        optim_options={'maxiter': 200}, \n",
    "        # x_wec_0=np.ones(wec.nfreq*2)*1e-1,\n",
    "        # x_opt_0=np.ones(wec.nfreq*2)*1e-1,\n",
    "        # scale_x_wec=1e1,\n",
    "        # scale_x_opt=1e-3,\n",
    "        # scale_obj=1e0,\n",
    "        )\n",
    "    \n",
    "    x_wec, x_opt = wecs[key].decompose_state(results[key][0].x)\n",
    "    nsubsteps = 5\n",
    "    pto_f, pto_t = ptos[key].post_process(wecs[key], results[key], waves, nsubsteps=nsubsteps)\n",
    "    wec_f, wec_t = wecs[key].post_process(wecs[key], results[key], waves, nsubsteps=nsubsteps)\n",
    "    \n",
    "    pto_ds_list.append(pto_t[0].expand_dims({'controller':[key]}))\n",
    "    wec_ds_list.append(wec_t[0].expand_dims({'controller':[key]}))\n",
    "    \n",
    "    # opt_mechanical_average_power = results[0].fun\n",
    "    # print(f'Optimal average mechanical power: {opt_mechanical_average_power} W')\n",
    "    \n",
    "pto_ds = xr.merge(pto_ds_list)\n",
    "wec_ds = xr.merge(wec_ds_list)"
   ]
  },
  {
   "cell_type": "code",
   "execution_count": null,
   "id": "34eac530",
   "metadata": {},
   "outputs": [],
   "source": [
    "fig, ax = plt.subplots(nrows=3, sharex=True)\n",
    "wec_ds['pos'].plot(ax=ax[0],\n",
    "                   hue='controller',\n",
    "                   add_legend=True)\n",
    "ax[0].set_ylabel('Position [m]')\n",
    "\n",
    "pto_ds['force'].plot(ax=ax[1],\n",
    "                     hue='controller',\n",
    "                     add_legend=False)\n",
    "ax[1].set_ylabel('Force [N]')\n",
    "\n",
    "pto_ds['power'].sel(type='mech').squeeze().plot(ax=ax[2],\n",
    "                                                hue='controller',\n",
    "                                                add_legend=False)\n",
    "\n",
    "for axi in ax:\n",
    "    axi.set_title('')\n",
    "    axi.label_outer()\n",
    "    axi.spines[['right', 'top']].set_visible(False)\n",
    "    axi.autoscale(enable=True, axis='x', tight=True)"
   ]
  },
  {
   "cell_type": "code",
   "execution_count": null,
   "id": "eaa1de64",
   "metadata": {},
   "outputs": [],
   "source": [
    "pto_ds.squeeze().power.sel(type='mech').mean(dim='time')"
   ]
  }
 ],
 "metadata": {
  "kernelspec": {
   "display_name": "Python 3",
   "language": "python",
   "name": "python3"
  },
  "language_info": {
   "codemirror_mode": {
    "name": "ipython",
    "version": 3
   },
   "file_extension": ".py",
   "mimetype": "text/x-python",
   "name": "python",
   "nbconvert_exporter": "python",
   "pygments_lexer": "ipython3",
   "version": "3.11.8"
  }
 },
 "nbformat": 4,
 "nbformat_minor": 5
}
