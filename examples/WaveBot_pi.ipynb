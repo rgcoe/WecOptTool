{
 "cells": [
  {
   "cell_type": "code",
   "execution_count": null,
   "id": "8853828b",
   "metadata": {},
   "outputs": [],
   "source": [
    "import autograd.numpy as np\n",
    "import capytaine as cpy\n",
    "from capytaine.io.meshio import load_from_meshio\n",
    "import matplotlib.pyplot as plt\n",
    "import xarray as xr\n",
    "\n",
    "import wecopttool as wot\n",
    "\n",
    "## set colorblind-friendly colormap for plots\n",
    "plt.style.use('tableau-colorblind10')"
   ]
  },
  {
   "cell_type": "code",
   "execution_count": 11,
   "id": "ce925137",
   "metadata": {},
   "outputs": [],
   "source": [
    "wavefreq = 0.3 # Hz\n",
    "f1 = wavefreq\n",
    "nfreq = 10\n",
    "\n",
    "freq = wot.frequency(f1, nfreq, False) # False -> no zero frequency"
   ]
  },
  {
   "cell_type": "code",
   "execution_count": 12,
   "id": "c96ee071",
   "metadata": {},
   "outputs": [],
   "source": [
    "amplitude = 0.0625 # m\n",
    "phase = 30 # degrees\n",
    "wavedir = 0 # degrees\n",
    "\n",
    "waves = wot.waves.regular_wave(f1, nfreq, wavefreq, amplitude, phase, wavedir)"
   ]
  },
  {
   "cell_type": "code",
   "execution_count": 13,
   "id": "7d92e88b",
   "metadata": {},
   "outputs": [],
   "source": [
    "wb = wot.geom.WaveBot()  # use standard dimensions\n",
    "mesh_size_factor = 0.2 # 1.0 for default, smaller to refine mesh\n",
    "mesh = wb.mesh(mesh_size_factor)\n",
    "\n",
    "# create mesh object for WaveBot and add internal lid\n",
    "mesh_obj = load_from_meshio(mesh, 'WaveBot')\n",
    "lid_mesh = mesh_obj.generate_lid(-2e-2)\n",
    "\n",
    "fb = cpy.FloatingBody(mesh=mesh_obj, lid_mesh=lid_mesh, name=\"WaveBot\")"
   ]
  },
  {
   "cell_type": "code",
   "execution_count": 14,
   "id": "069eb638",
   "metadata": {},
   "outputs": [],
   "source": [
    "fb.add_translation_dof(name=\"Heave\")\n",
    "ndof = fb.nb_dofs"
   ]
  },
  {
   "cell_type": "code",
   "execution_count": 15,
   "id": "ae2c97d5",
   "metadata": {},
   "outputs": [
    {
     "name": "stderr",
     "output_type": "stream",
     "text": [
      "WARNING:wecopttool.core:Using the geometric centroid as the center of gravity (COG).\n"
     ]
    },
    {
     "data": {
      "text/html": [
       "<pre style=\"white-space:pre;overflow-x:auto;line-height:normal;font-family:Menlo,'DejaVu Sans Mono',consolas,'Courier New',monospace\"><span style=\"color: #7fbfbf; text-decoration-color: #7fbfbf\">[14:31:31] </span><span style=\"color: #800000; text-decoration-color: #800000\">WARNING </span> Using the geometric centroid as the center of gravity <span style=\"font-weight: bold\">(</span>COG<span style=\"font-weight: bold\">)</span>.                                   \n",
       "</pre>\n"
      ],
      "text/plain": [
       "\u001b[2;36m[14:31:31]\u001b[0m\u001b[2;36m \u001b[0m\u001b[31mWARNING \u001b[0m Using the geometric centroid as the center of gravity \u001b[1m(\u001b[0mCOG\u001b[1m)\u001b[0m.                                   \n"
      ]
     },
     "metadata": {},
     "output_type": "display_data"
    },
    {
     "name": "stderr",
     "output_type": "stream",
     "text": [
      "WARNING:wecopttool.core:Using the center of gravity (COG) as the rotation center for hydrostatics.\n"
     ]
    },
    {
     "data": {
      "text/html": [
       "<pre style=\"white-space:pre;overflow-x:auto;line-height:normal;font-family:Menlo,'DejaVu Sans Mono',consolas,'Courier New',monospace\"><span style=\"color: #7fbfbf; text-decoration-color: #7fbfbf\">           </span><span style=\"color: #800000; text-decoration-color: #800000\">WARNING </span> Using the center of gravity <span style=\"font-weight: bold\">(</span>COG<span style=\"font-weight: bold\">)</span> as the rotation center for hydrostatics.                     \n",
       "</pre>\n"
      ],
      "text/plain": [
       "\u001b[2;36m          \u001b[0m\u001b[2;36m \u001b[0m\u001b[31mWARNING \u001b[0m Using the center of gravity \u001b[1m(\u001b[0mCOG\u001b[1m)\u001b[0m as the rotation center for hydrostatics.                     \n"
      ]
     },
     "metadata": {},
     "output_type": "display_data"
    },
    {
     "name": "stderr",
     "output_type": "stream",
     "text": [
      "WARNING:wecopttool.core:FloatingBody has no inertia_matrix field. If the FloatingBody mass is defined, it will be used for calculating the inertia matrix here. Otherwise, the neutral buoyancy assumption will be used to auto-populate.\n"
     ]
    },
    {
     "data": {
      "text/html": [
       "<pre style=\"white-space:pre;overflow-x:auto;line-height:normal;font-family:Menlo,'DejaVu Sans Mono',consolas,'Courier New',monospace\"><span style=\"color: #7fbfbf; text-decoration-color: #7fbfbf\">           </span><span style=\"color: #800000; text-decoration-color: #800000\">WARNING </span> FloatingBody has no inertia_matrix field. If the FloatingBody mass is defined, it will be used \n",
       "<span style=\"color: #7fbfbf; text-decoration-color: #7fbfbf\">           </span>         for calculating the inertia matrix here. Otherwise, the neutral buoyancy assumption will be    \n",
       "<span style=\"color: #7fbfbf; text-decoration-color: #7fbfbf\">           </span>         used to auto-populate.                                                                         \n",
       "</pre>\n"
      ],
      "text/plain": [
       "\u001b[2;36m          \u001b[0m\u001b[2;36m \u001b[0m\u001b[31mWARNING \u001b[0m FloatingBody has no inertia_matrix field. If the FloatingBody mass is defined, it will be used \n",
       "\u001b[2;36m           \u001b[0m         for calculating the inertia matrix here. Otherwise, the neutral buoyancy assumption will be    \n",
       "\u001b[2;36m           \u001b[0m         used to auto-populate.                                                                         \n"
      ]
     },
     "metadata": {},
     "output_type": "display_data"
    },
    {
     "name": "stderr",
     "output_type": "stream",
     "text": [
      "WARNING:wecopttool.core:FloatingBody has no hydrostatic_stiffness field. Capytaine will auto-populate the hydrostatic stiffness based on the provided mesh.\n"
     ]
    },
    {
     "data": {
      "text/html": [
       "<pre style=\"white-space:pre;overflow-x:auto;line-height:normal;font-family:Menlo,'DejaVu Sans Mono',consolas,'Courier New',monospace\"><span style=\"color: #7fbfbf; text-decoration-color: #7fbfbf\">           </span><span style=\"color: #800000; text-decoration-color: #800000\">WARNING </span> FloatingBody has no hydrostatic_stiffness field. Capytaine will auto-populate the hydrostatic  \n",
       "<span style=\"color: #7fbfbf; text-decoration-color: #7fbfbf\">           </span>         stiffness based on the provided mesh.                                                          \n",
       "</pre>\n"
      ],
      "text/plain": [
       "\u001b[2;36m          \u001b[0m\u001b[2;36m \u001b[0m\u001b[31mWARNING \u001b[0m FloatingBody has no hydrostatic_stiffness field. Capytaine will auto-populate the hydrostatic  \n",
       "\u001b[2;36m           \u001b[0m         stiffness based on the provided mesh.                                                          \n"
      ]
     },
     "metadata": {},
     "output_type": "display_data"
    },
    {
     "name": "stderr",
     "output_type": "stream",
     "text": [
      "WARNING:capytaine.bem.solver:Mesh resolution for 6 problems:\n",
      "The resolution of the mesh might be insufficient for omega ranging from 15.080 to 18.850.\n",
      "This warning appears when the largest panel of this mesh has radius > wavelength/8.\n"
     ]
    },
    {
     "data": {
      "text/html": [
       "<pre style=\"white-space:pre;overflow-x:auto;line-height:normal;font-family:Menlo,'DejaVu Sans Mono',consolas,'Courier New',monospace\"><span style=\"color: #7fbfbf; text-decoration-color: #7fbfbf\">           </span><span style=\"color: #800000; text-decoration-color: #800000\">WARNING </span> Mesh resolution for <span style=\"color: #008080; text-decoration-color: #008080; font-weight: bold\">6</span> problems:                                                                \n",
       "<span style=\"color: #7fbfbf; text-decoration-color: #7fbfbf\">           </span>         The resolution of the mesh might be insufficient for omega ranging from <span style=\"color: #008080; text-decoration-color: #008080; font-weight: bold\">15.080</span> to <span style=\"color: #008080; text-decoration-color: #008080; font-weight: bold\">18.850</span>.      \n",
       "<span style=\"color: #7fbfbf; text-decoration-color: #7fbfbf\">           </span>         This warning appears when the largest panel of this mesh has radius &gt; wavelength/<span style=\"color: #008080; text-decoration-color: #008080; font-weight: bold\">8</span>.            \n",
       "</pre>\n"
      ],
      "text/plain": [
       "\u001b[2;36m          \u001b[0m\u001b[2;36m \u001b[0m\u001b[31mWARNING \u001b[0m Mesh resolution for \u001b[1;36m6\u001b[0m problems:                                                                \n",
       "\u001b[2;36m           \u001b[0m         The resolution of the mesh might be insufficient for omega ranging from \u001b[1;36m15.080\u001b[0m to \u001b[1;36m18.850\u001b[0m.      \n",
       "\u001b[2;36m           \u001b[0m         This warning appears when the largest panel of this mesh has radius > wavelength/\u001b[1;36m8\u001b[0m.            \n"
      ]
     },
     "metadata": {},
     "output_type": "display_data"
    },
    {
     "data": {
      "application/vnd.jupyter.widget-view+json": {
       "model_id": "0d9d89c1215e4c33a7c6a4eea42eca93",
       "version_major": 2,
       "version_minor": 0
      },
      "text/plain": [
       "Output()"
      ]
     },
     "metadata": {},
     "output_type": "display_data"
    },
    {
     "data": {
      "text/html": [
       "<pre style=\"white-space:pre;overflow-x:auto;line-height:normal;font-family:Menlo,'DejaVu Sans Mono',consolas,'Courier New',monospace\"></pre>\n"
      ],
      "text/plain": []
     },
     "metadata": {},
     "output_type": "display_data"
    },
    {
     "data": {
      "text/html": [
       "<pre style=\"white-space:pre;overflow-x:auto;line-height:normal;font-family:Menlo,'DejaVu Sans Mono',consolas,'Courier New',monospace\">\n",
       "</pre>\n"
      ],
      "text/plain": [
       "\n"
      ]
     },
     "metadata": {},
     "output_type": "display_data"
    }
   ],
   "source": [
    "bem_data = wot.run_bem(fb, freq)"
   ]
  },
  {
   "cell_type": "code",
   "execution_count": 32,
   "id": "1ce52896",
   "metadata": {},
   "outputs": [
    {
     "data": {
      "image/png": "[encoded data removed]",
      "text/plain": [
       "<Figure size 300x300 with 2 Axes>"
      ]
     },
     "metadata": {},
     "output_type": "display_data"
    }
   ],
   "source": [
    "hd = wot.add_linear_friction(bem_data, friction=500) \n",
    "# we're not actually adding friction, but need the datavariables in hd \n",
    "hd = wot.check_radiation_damping(hd)\n",
    "\n",
    "intrinsic_impedance = wot.hydrodynamic_impedance(hd)\n",
    "fig, axes = wot.utilities.plot_bode_impedance(intrinsic_impedance,\n",
    "                                              'WaveBot Intrinsic Impedance')"
   ]
  },
  {
   "cell_type": "code",
   "execution_count": 43,
   "id": "121773d5",
   "metadata": {},
   "outputs": [],
   "source": [
    "ptos = {\n",
    "    'unstructured': wot.pto.PTO(ndof,\n",
    "                                kinematics=np.eye(ndof),\n",
    "                                controller=None,\n",
    "                                impedance=None,\n",
    "                                loss=None,\n",
    "                                names=[\"PTO_Heave\",]),\n",
    "    'pi': wot.pto.PTO(ndof,\n",
    "                      kinematics=np.eye(ndof),\n",
    "                    #   controller=wot.pto.controller_pi, #TODO\n",
    "                      controller=wot.pto.feedback_controller(1,True,True,False).force,\n",
    "                      impedance=None,\n",
    "                      loss=None,\n",
    "                      names=[\"PTO_Heave\",]),\n",
    "    'p': wot.pto.PTO(ndof,\n",
    "                      kinematics=np.eye(ndof),\n",
    "                    #   controller=wot.pto.controller_pi, #TODO\n",
    "                      controller=wot.pto.feedback_controller(1,True,False,False).force,\n",
    "                      impedance=None,\n",
    "                      loss=None,\n",
    "                      names=[\"PTO_Heave\",]),\n",
    "}"
   ]
  },
  {
   "cell_type": "code",
   "execution_count": 47,
   "id": "638958ec",
   "metadata": {},
   "outputs": [
    {
     "name": "stderr",
     "output_type": "stream",
     "text": [
      "WARNING:wecopttool.core:Linear damping for DOF \"Heave\" has negative or close to zero terms. Shifting up damping terms [9] to a minimum of 1e-06 N/(m/s)\n"
     ]
    },
    {
     "data": {
      "text/html": [
       "<pre style=\"white-space:pre;overflow-x:auto;line-height:normal;font-family:Menlo,'DejaVu Sans Mono',consolas,'Courier New',monospace\"><span style=\"color: #7fbfbf; text-decoration-color: #7fbfbf\">[15:49:46] </span><span style=\"color: #800000; text-decoration-color: #800000\">WARNING </span> Linear damping for DOF <span style=\"color: #008000; text-decoration-color: #008000\">\"Heave\"</span> has negative or close to zero terms. Shifting up damping terms  \n",
       "<span style=\"color: #7fbfbf; text-decoration-color: #7fbfbf\">           </span>         <span style=\"font-weight: bold\">[</span><span style=\"color: #008080; text-decoration-color: #008080; font-weight: bold\">9</span><span style=\"font-weight: bold\">]</span> to a minimum of <span style=\"color: #008080; text-decoration-color: #008080; font-weight: bold\">1e-06</span> N/<span style=\"font-weight: bold\">(</span>m/s<span style=\"font-weight: bold\">)</span>                                                              \n",
       "</pre>\n"
      ],
      "text/plain": [
       "\u001b[2;36m[15:49:46]\u001b[0m\u001b[2;36m \u001b[0m\u001b[31mWARNING \u001b[0m Linear damping for DOF \u001b[32m\"Heave\"\u001b[0m has negative or close to zero terms. Shifting up damping terms  \n",
       "\u001b[2;36m           \u001b[0m         \u001b[1m[\u001b[0m\u001b[1;36m9\u001b[0m\u001b[1m]\u001b[0m to a minimum of \u001b[1;36m1e-06\u001b[0m N/\u001b[1m(\u001b[0mm/s\u001b[1m)\u001b[0m                                                              \n"
      ]
     },
     "metadata": {},
     "output_type": "display_data"
    },
    {
     "name": "stderr",
     "output_type": "stream",
     "text": [
      "WARNING:wecopttool.core:Linear damping for DOF \"Heave\" has negative or close to zero terms. Shifting up damping terms [9] to a minimum of 1e-06 N/(m/s)\n"
     ]
    },
    {
     "data": {
      "text/html": [
       "<pre style=\"white-space:pre;overflow-x:auto;line-height:normal;font-family:Menlo,'DejaVu Sans Mono',consolas,'Courier New',monospace\"><span style=\"color: #7fbfbf; text-decoration-color: #7fbfbf\">           </span><span style=\"color: #800000; text-decoration-color: #800000\">WARNING </span> Linear damping for DOF <span style=\"color: #008000; text-decoration-color: #008000\">\"Heave\"</span> has negative or close to zero terms. Shifting up damping terms  \n",
       "<span style=\"color: #7fbfbf; text-decoration-color: #7fbfbf\">           </span>         <span style=\"font-weight: bold\">[</span><span style=\"color: #008080; text-decoration-color: #008080; font-weight: bold\">9</span><span style=\"font-weight: bold\">]</span> to a minimum of <span style=\"color: #008080; text-decoration-color: #008080; font-weight: bold\">1e-06</span> N/<span style=\"font-weight: bold\">(</span>m/s<span style=\"font-weight: bold\">)</span>                                                              \n",
       "</pre>\n"
      ],
      "text/plain": [
       "\u001b[2;36m          \u001b[0m\u001b[2;36m \u001b[0m\u001b[31mWARNING \u001b[0m Linear damping for DOF \u001b[32m\"Heave\"\u001b[0m has negative or close to zero terms. Shifting up damping terms  \n",
       "\u001b[2;36m           \u001b[0m         \u001b[1m[\u001b[0m\u001b[1;36m9\u001b[0m\u001b[1m]\u001b[0m to a minimum of \u001b[1;36m1e-06\u001b[0m N/\u001b[1m(\u001b[0mm/s\u001b[1m)\u001b[0m                                                              \n"
      ]
     },
     "metadata": {},
     "output_type": "display_data"
    },
    {
     "name": "stderr",
     "output_type": "stream",
     "text": [
      "WARNING:wecopttool.core:Linear damping for DOF \"Heave\" has negative or close to zero terms. Shifting up damping terms [9] to a minimum of 1e-06 N/(m/s)\n"
     ]
    },
    {
     "data": {
      "text/html": [
       "<pre style=\"white-space:pre;overflow-x:auto;line-height:normal;font-family:Menlo,'DejaVu Sans Mono',consolas,'Courier New',monospace\"><span style=\"color: #7fbfbf; text-decoration-color: #7fbfbf\">           </span><span style=\"color: #800000; text-decoration-color: #800000\">WARNING </span> Linear damping for DOF <span style=\"color: #008000; text-decoration-color: #008000\">\"Heave\"</span> has negative or close to zero terms. Shifting up damping terms  \n",
       "<span style=\"color: #7fbfbf; text-decoration-color: #7fbfbf\">           </span>         <span style=\"font-weight: bold\">[</span><span style=\"color: #008080; text-decoration-color: #008080; font-weight: bold\">9</span><span style=\"font-weight: bold\">]</span> to a minimum of <span style=\"color: #008080; text-decoration-color: #008080; font-weight: bold\">1e-06</span> N/<span style=\"font-weight: bold\">(</span>m/s<span style=\"font-weight: bold\">)</span>                                                              \n",
       "</pre>\n"
      ],
      "text/plain": [
       "\u001b[2;36m          \u001b[0m\u001b[2;36m \u001b[0m\u001b[31mWARNING \u001b[0m Linear damping for DOF \u001b[32m\"Heave\"\u001b[0m has negative or close to zero terms. Shifting up damping terms  \n",
       "\u001b[2;36m           \u001b[0m         \u001b[1m[\u001b[0m\u001b[1;36m9\u001b[0m\u001b[1m]\u001b[0m to a minimum of \u001b[1;36m1e-06\u001b[0m N/\u001b[1m(\u001b[0mm/s\u001b[1m)\u001b[0m                                                              \n"
      ]
     },
     "metadata": {},
     "output_type": "display_data"
    }
   ],
   "source": [
    "# Constraint\n",
    "f_max = 750.0\n",
    "nsubsteps = 4\n",
    "\n",
    "wecs = {}\n",
    "obj_funs = {}\n",
    "nstate_opts = {}\n",
    "for key in ptos:\n",
    "    \n",
    "    def const_f_pto(wec, x_wec, x_opt, waves): # Format for scipy.optimize.minimize\n",
    "        f = ptos[key].force(wec, x_wec, x_opt, waves, nsubsteps)\n",
    "        return f_max - np.abs(f.flatten())\n",
    "\n",
    "    constraints = [{'type': 'ineq', 'fun': const_f_pto,}]\n",
    "    \n",
    "    wecs[key] = wot.WEC.from_bem(\n",
    "        hd,\n",
    "        constraints=constraints,  # TODO\n",
    "        friction=None,\n",
    "        f_add={'PTO': ptos[key].force_on_wec})\n",
    "    obj_funs[key] = ptos[key].mechanical_average_power\n",
    "    if key == 'pi':\n",
    "        nstate_opts[key] = 2\n",
    "    elif key == 'p':\n",
    "        nstate_opts[key] = 1\n",
    "    elif key == 'unstructured':\n",
    "        nstate_opts[key] = 2*nfreq"
   ]
  },
  {
   "cell_type": "code",
   "execution_count": 48,
   "id": "c917b6ce",
   "metadata": {},
   "outputs": [
    {
     "name": "stderr",
     "output_type": "stream",
     "text": [
      "/Users/rcoe/Documents/WecOptTool/wecopttool/wecopttool/core.py:756: UserWarning: The `squeeze` kwarg to GroupBy is being removed.Pass .groupby(..., squeeze=False) to disable squeezing, which is the new default, and to silence this warning.\n",
      "  for realization, wave in waves.groupby('realization'):\n"
     ]
    },
    {
     "name": "stdout",
     "output_type": "stream",
     "text": [
      "\n",
      "-------------------------------\n",
      "Running case: unstructured controller\n",
      "Optimization terminated successfully    (Exit mode 0)\n",
      "            Current function value: -48.29485466761623\n",
      "            Iterations: 110\n",
      "            Function evaluations: 110\n",
      "            Gradient evaluations: 110\n",
      "\n",
      "-------------------------------\n",
      "Running case: pi controller\n"
     ]
    },
    {
     "name": "stderr",
     "output_type": "stream",
     "text": [
      "/Users/rcoe/Documents/WecOptTool/wecopttool/wecopttool/core.py:756: UserWarning: The `squeeze` kwarg to GroupBy is being removed.Pass .groupby(..., squeeze=False) to disable squeezing, which is the new default, and to silence this warning.\n",
      "  for realization, wave in waves.groupby('realization'):\n"
     ]
    },
    {
     "name": "stdout",
     "output_type": "stream",
     "text": [
      "Optimization terminated successfully    (Exit mode 0)\n",
      "            Current function value: -40.90401905775614\n",
      "            Iterations: 35\n",
      "            Function evaluations: 39\n",
      "            Gradient evaluations: 35\n",
      "\n",
      "-------------------------------\n",
      "Running case: p controller\n"
     ]
    },
    {
     "name": "stderr",
     "output_type": "stream",
     "text": [
      "/Users/rcoe/Documents/WecOptTool/wecopttool/wecopttool/core.py:756: UserWarning: The `squeeze` kwarg to GroupBy is being removed.Pass .groupby(..., squeeze=False) to disable squeezing, which is the new default, and to silence this warning.\n",
      "  for realization, wave in waves.groupby('realization'):\n"
     ]
    },
    {
     "name": "stdout",
     "output_type": "stream",
     "text": [
      "Optimization terminated successfully    (Exit mode 0)\n",
      "            Current function value: -28.32918300759299\n",
      "            Iterations: 21\n",
      "            Function evaluations: 23\n",
      "            Gradient evaluations: 21\n"
     ]
    }
   ],
   "source": [
    "pto_ds_list = []\n",
    "wec_ds_list = []\n",
    "\n",
    "results = {}\n",
    "for key in wecs:\n",
    "    print('\\n-------------------------------')\n",
    "    print(f'Running case: {key} controller')\n",
    "    results[key] = wecs[key].solve(\n",
    "        waves, \n",
    "        obj_funs[key], \n",
    "        nstate_opts[key],\n",
    "        optim_options={'maxiter': 200}, \n",
    "        # x_wec_0=np.ones(wec.nfreq*2)*1e-1,\n",
    "        # x_opt_0=np.ones(wec.nfreq*2)*1e-1,\n",
    "        # scale_x_wec=1e1,\n",
    "        # scale_x_opt=1e-3,\n",
    "        # scale_obj=1e0,\n",
    "        )\n",
    "    \n",
    "    x_wec, x_opt = wecs[key].decompose_state(results[key][0].x)\n",
    "    nsubsteps = 5\n",
    "    pto_f, pto_t = ptos[key].post_process(wecs[key], results[key], waves, nsubsteps=nsubsteps)\n",
    "    wec_f, wec_t = wecs[key].post_process(wecs[key], results[key], waves, nsubsteps=nsubsteps)\n",
    "    \n",
    "    pto_ds_list.append(pto_t[0].expand_dims({'controller':[key]}))\n",
    "    wec_ds_list.append(wec_t[0].expand_dims({'controller':[key]}))\n",
    "    \n",
    "    # opt_mechanical_average_power = results[0].fun\n",
    "    # print(f'Optimal average mechanical power: {opt_mechanical_average_power} W')\n",
    "    \n",
    "pto_ds = xr.merge(pto_ds_list)\n",
    "wec_ds = xr.merge(wec_ds_list)"
   ]
  },
  {
   "cell_type": "code",
   "execution_count": 49,
   "id": "34eac530",
   "metadata": {},
   "outputs": [
    {
     "data": {
      "image/png": "[encoded data removed]",
      "text/plain": [
       "<Figure size 640x480 with 3 Axes>"
      ]
     },
     "metadata": {},
     "output_type": "display_data"
    }
   ],
   "source": [
    "fig, ax = plt.subplots(nrows=3, sharex=True)\n",
    "wec_ds['pos'].plot(ax=ax[0],\n",
    "                   hue='controller',\n",
    "                   add_legend=True)\n",
    "ax[0].set_ylabel('Position [m]')\n",
    "\n",
    "pto_ds['force'].plot(ax=ax[1],\n",
    "                     hue='controller',\n",
    "                     add_legend=False)\n",
    "ax[1].set_ylabel('Force [N]')\n",
    "\n",
    "pto_ds['power'].sel(type='mech').squeeze().plot(ax=ax[2],\n",
    "                                                hue='controller',\n",
    "                                                add_legend=False)\n",
    "\n",
    "for axi in ax:\n",
    "    axi.set_title('')\n",
    "    axi.label_outer()\n",
    "    axi.spines[['right', 'top']].set_visible(False)\n",
    "    axi.autoscale(enable=True, axis='x', tight=True)"
   ]
  },
  {
   "cell_type": "code",
   "execution_count": 50,
   "id": "eaa1de64",
   "metadata": {},
   "outputs": [
    {
     "data": {
      "text/html": [
       "<div><svg style=\"position: absolute; width: 0; height: 0; overflow: hidden\">\n",
       "<defs>\n",
       "<symbol id=\"icon-database\" viewBox=\"0 0 32 32\">\n",
       "<path d=\"M16 0c-8.837 0-16 2.239-16 5v4c0 2.761 7.163 5 16 5s16-2.239 16-5v-4c0-2.761-7.163-5-16-5z\"></path>\n",
       "<path d=\"M16 17c-8.837 0-16-2.239-16-5v6c0 2.761 7.163 5 16 5s16-2.239 16-5v-6c0 2.761-7.163 5-16 5z\"></path>\n",
       "<path d=\"M16 26c-8.837 0-16-2.239-16-5v6c0 2.761 7.163 5 16 5s16-2.239 16-5v-6c0 2.761-7.163 5-16 5z\"></path>\n",
       "</symbol>\n",
       "<symbol id=\"icon-file-text2\" viewBox=\"0 0 32 32\">\n",
       "<path d=\"M28.681 7.159c-0.694-0.947-1.662-2.053-2.724-3.116s-2.169-2.030-3.116-2.724c-1.612-1.182-2.393-1.319-2.841-1.319h-15.5c-1.378 0-2.5 1.121-2.5 2.5v27c0 1.378 1.122 2.5 2.5 2.5h23c1.378 0 2.5-1.122 2.5-2.5v-19.5c0-0.448-0.137-1.23-1.319-2.841zM24.543 5.457c0.959 0.959 1.712 1.825 2.268 2.543h-4.811v-4.811c0.718 0.556 1.584 1.309 2.543 2.268zM28 29.5c0 0.271-0.229 0.5-0.5 0.5h-23c-0.271 0-0.5-0.229-0.5-0.5v-27c0-0.271 0.229-0.5 0.5-0.5 0 0 15.499-0 15.5 0v7c0 0.552 0.448 1 1 1h7v19.5z\"></path>\n",
       "<path d=\"M23 26h-14c-0.552 0-1-0.448-1-1s0.448-1 1-1h14c0.552 0 1 0.448 1 1s-0.448 1-1 1z\"></path>\n",
       "<path d=\"M23 22h-14c-0.552 0-1-0.448-1-1s0.448-1 1-1h14c0.552 0 1 0.448 1 1s-0.448 1-1 1z\"></path>\n",
       "<path d=\"M23 18h-14c-0.552 0-1-0.448-1-1s0.448-1 1-1h14c0.552 0 1 0.448 1 1s-0.448 1-1 1z\"></path>\n",
       "</symbol>\n",
       "</defs>\n",
       "</svg>\n",
       "<style>/* CSS stylesheet for displaying xarray objects in jupyterlab.\n",
       " *\n",
       " */\n",
       "\n",
       ":root {\n",
       "  --xr-font-color0: var(--jp-content-font-color0, rgba(0, 0, 0, 1));\n",
       "  --xr-font-color2: var(--jp-content-font-color2, rgba(0, 0, 0, 0.54));\n",
       "  --xr-font-color3: var(--jp-content-font-color3, rgba(0, 0, 0, 0.38));\n",
       "  --xr-border-color: var(--jp-border-color2, #e0e0e0);\n",
       "  --xr-disabled-color: var(--jp-layout-color3, #bdbdbd);\n",
       "  --xr-background-color: var(--jp-layout-color0, white);\n",
       "  --xr-background-color-row-even: var(--jp-layout-color1, white);\n",
       "  --xr-background-color-row-odd: var(--jp-layout-color2, #eeeeee);\n",
       "}\n",
       "\n",
       "html[theme=dark],\n",
       "body[data-theme=dark],\n",
       "body.vscode-dark {\n",
       "  --xr-font-color0: rgba(255, 255, 255, 1);\n",
       "  --xr-font-color2: rgba(255, 255, 255, 0.54);\n",
       "  --xr-font-color3: rgba(255, 255, 255, 0.38);\n",
       "  --xr-border-color: #1F1F1F;\n",
       "  --xr-disabled-color: #515151;\n",
       "  --xr-background-color: #111111;\n",
       "  --xr-background-color-row-even: #111111;\n",
       "  --xr-background-color-row-odd: #313131;\n",
       "}\n",
       "\n",
       ".xr-wrap {\n",
       "  display: block !important;\n",
       "  min-width: 300px;\n",
       "  max-width: 700px;\n",
       "}\n",
       "\n",
       ".xr-text-repr-fallback {\n",
       "  /* fallback to plain text repr when CSS is not injected (untrusted notebook) */\n",
       "  display: none;\n",
       "}\n",
       "\n",
       ".xr-header {\n",
       "  padding-top: 6px;\n",
       "  padding-bottom: 6px;\n",
       "  margin-bottom: 4px;\n",
       "  border-bottom: solid 1px var(--xr-border-color);\n",
       "}\n",
       "\n",
       ".xr-header > div,\n",
       ".xr-header > ul {\n",
       "  display: inline;\n",
       "  margin-top: 0;\n",
       "  margin-bottom: 0;\n",
       "}\n",
       "\n",
       ".xr-obj-type,\n",
       ".xr-array-name {\n",
       "  margin-left: 2px;\n",
       "  margin-right: 10px;\n",
       "}\n",
       "\n",
       ".xr-obj-type {\n",
       "  color: var(--xr-font-color2);\n",
       "}\n",
       "\n",
       ".xr-sections {\n",
       "  padding-left: 0 !important;\n",
       "  display: grid;\n",
       "  grid-template-columns: 150px auto auto 1fr 20px 20px;\n",
       "}\n",
       "\n",
       ".xr-section-item {\n",
       "  display: contents;\n",
       "}\n",
       "\n",
       ".xr-section-item input {\n",
       "  display: none;\n",
       "}\n",
       "\n",
       ".xr-section-item input + label {\n",
       "  color: var(--xr-disabled-color);\n",
       "}\n",
       "\n",
       ".xr-section-item input:enabled + label {\n",
       "  cursor: pointer;\n",
       "  color: var(--xr-font-color2);\n",
       "}\n",
       "\n",
       ".xr-section-item input:enabled + label:hover {\n",
       "  color: var(--xr-font-color0);\n",
       "}\n",
       "\n",
       ".xr-section-summary {\n",
       "  grid-column: 1;\n",
       "  color: var(--xr-font-color2);\n",
       "  font-weight: 500;\n",
       "}\n",
       "\n",
       ".xr-section-summary > span {\n",
       "  display: inline-block;\n",
       "  padding-left: 0.5em;\n",
       "}\n",
       "\n",
       ".xr-section-summary-in:disabled + label {\n",
       "  color: var(--xr-font-color2);\n",
       "}\n",
       "\n",
       ".xr-section-summary-in + label:before {\n",
       "  display: inline-block;\n",
       "  content: '►';\n",
       "  font-size: 11px;\n",
       "  width: 15px;\n",
       "  text-align: center;\n",
       "}\n",
       "\n",
       ".xr-section-summary-in:disabled + label:before {\n",
       "  color: var(--xr-disabled-color);\n",
       "}\n",
       "\n",
       ".xr-section-summary-in:checked + label:before {\n",
       "  content: '▼';\n",
       "}\n",
       "\n",
       ".xr-section-summary-in:checked + label > span {\n",
       "  display: none;\n",
       "}\n",
       "\n",
       ".xr-section-summary,\n",
       ".xr-section-inline-details {\n",
       "  padding-top: 4px;\n",
       "  padding-bottom: 4px;\n",
       "}\n",
       "\n",
       ".xr-section-inline-details {\n",
       "  grid-column: 2 / -1;\n",
       "}\n",
       "\n",
       ".xr-section-details {\n",
       "  display: none;\n",
       "  grid-column: 1 / -1;\n",
       "  margin-bottom: 5px;\n",
       "}\n",
       "\n",
       ".xr-section-summary-in:checked ~ .xr-section-details {\n",
       "  display: contents;\n",
       "}\n",
       "\n",
       ".xr-array-wrap {\n",
       "  grid-column: 1 / -1;\n",
       "  display: grid;\n",
       "  grid-template-columns: 20px auto;\n",
       "}\n",
       "\n",
       ".xr-array-wrap > label {\n",
       "  grid-column: 1;\n",
       "  vertical-align: top;\n",
       "}\n",
       "\n",
       ".xr-preview {\n",
       "  color: var(--xr-font-color3);\n",
       "}\n",
       "\n",
       ".xr-array-preview,\n",
       ".xr-array-data {\n",
       "  padding: 0 5px !important;\n",
       "  grid-column: 2;\n",
       "}\n",
       "\n",
       ".xr-array-data,\n",
       ".xr-array-in:checked ~ .xr-array-preview {\n",
       "  display: none;\n",
       "}\n",
       "\n",
       ".xr-array-in:checked ~ .xr-array-data,\n",
       ".xr-array-preview {\n",
       "  display: inline-block;\n",
       "}\n",
       "\n",
       ".xr-dim-list {\n",
       "  display: inline-block !important;\n",
       "  list-style: none;\n",
       "  padding: 0 !important;\n",
       "  margin: 0;\n",
       "}\n",
       "\n",
       ".xr-dim-list li {\n",
       "  display: inline-block;\n",
       "  padding: 0;\n",
       "  margin: 0;\n",
       "}\n",
       "\n",
       ".xr-dim-list:before {\n",
       "  content: '(';\n",
       "}\n",
       "\n",
       ".xr-dim-list:after {\n",
       "  content: ')';\n",
       "}\n",
       "\n",
       ".xr-dim-list li:not(:last-child):after {\n",
       "  content: ',';\n",
       "  padding-right: 5px;\n",
       "}\n",
       "\n",
       ".xr-has-index {\n",
       "  font-weight: bold;\n",
       "}\n",
       "\n",
       ".xr-var-list,\n",
       ".xr-var-item {\n",
       "  display: contents;\n",
       "}\n",
       "\n",
       ".xr-var-item > div,\n",
       ".xr-var-item label,\n",
       ".xr-var-item > .xr-var-name span {\n",
       "  background-color: var(--xr-background-color-row-even);\n",
       "  margin-bottom: 0;\n",
       "}\n",
       "\n",
       ".xr-var-item > .xr-var-name:hover span {\n",
       "  padding-right: 5px;\n",
       "}\n",
       "\n",
       ".xr-var-list > li:nth-child(odd) > div,\n",
       ".xr-var-list > li:nth-child(odd) > label,\n",
       ".xr-var-list > li:nth-child(odd) > .xr-var-name span {\n",
       "  background-color: var(--xr-background-color-row-odd);\n",
       "}\n",
       "\n",
       ".xr-var-name {\n",
       "  grid-column: 1;\n",
       "}\n",
       "\n",
       ".xr-var-dims {\n",
       "  grid-column: 2;\n",
       "}\n",
       "\n",
       ".xr-var-dtype {\n",
       "  grid-column: 3;\n",
       "  text-align: right;\n",
       "  color: var(--xr-font-color2);\n",
       "}\n",
       "\n",
       ".xr-var-preview {\n",
       "  grid-column: 4;\n",
       "}\n",
       "\n",
       ".xr-index-preview {\n",
       "  grid-column: 2 / 5;\n",
       "  color: var(--xr-font-color2);\n",
       "}\n",
       "\n",
       ".xr-var-name,\n",
       ".xr-var-dims,\n",
       ".xr-var-dtype,\n",
       ".xr-preview,\n",
       ".xr-attrs dt {\n",
       "  white-space: nowrap;\n",
       "  overflow: hidden;\n",
       "  text-overflow: ellipsis;\n",
       "  padding-right: 10px;\n",
       "}\n",
       "\n",
       ".xr-var-name:hover,\n",
       ".xr-var-dims:hover,\n",
       ".xr-var-dtype:hover,\n",
       ".xr-attrs dt:hover {\n",
       "  overflow: visible;\n",
       "  width: auto;\n",
       "  z-index: 1;\n",
       "}\n",
       "\n",
       ".xr-var-attrs,\n",
       ".xr-var-data,\n",
       ".xr-index-data {\n",
       "  display: none;\n",
       "  background-color: var(--xr-background-color) !important;\n",
       "  padding-bottom: 5px !important;\n",
       "}\n",
       "\n",
       ".xr-var-attrs-in:checked ~ .xr-var-attrs,\n",
       ".xr-var-data-in:checked ~ .xr-var-data,\n",
       ".xr-index-data-in:checked ~ .xr-index-data {\n",
       "  display: block;\n",
       "}\n",
       "\n",
       ".xr-var-data > table {\n",
       "  float: right;\n",
       "}\n",
       "\n",
       ".xr-var-name span,\n",
       ".xr-var-data,\n",
       ".xr-index-name div,\n",
       ".xr-index-data,\n",
       ".xr-attrs {\n",
       "  padding-left: 25px !important;\n",
       "}\n",
       "\n",
       ".xr-attrs,\n",
       ".xr-var-attrs,\n",
       ".xr-var-data,\n",
       ".xr-index-data {\n",
       "  grid-column: 1 / -1;\n",
       "}\n",
       "\n",
       "dl.xr-attrs {\n",
       "  padding: 0;\n",
       "  margin: 0;\n",
       "  display: grid;\n",
       "  grid-template-columns: 125px auto;\n",
       "}\n",
       "\n",
       ".xr-attrs dt,\n",
       ".xr-attrs dd {\n",
       "  padding: 0;\n",
       "  margin: 0;\n",
       "  float: left;\n",
       "  padding-right: 10px;\n",
       "  width: auto;\n",
       "}\n",
       "\n",
       ".xr-attrs dt {\n",
       "  font-weight: normal;\n",
       "  grid-column: 1;\n",
       "}\n",
       "\n",
       ".xr-attrs dt:hover span {\n",
       "  display: inline-block;\n",
       "  background: var(--xr-background-color);\n",
       "  padding-right: 10px;\n",
       "}\n",
       "\n",
       ".xr-attrs dd {\n",
       "  grid-column: 2;\n",
       "  white-space: pre-wrap;\n",
       "  word-break: break-all;\n",
       "}\n",
       "\n",
       ".xr-icon-database,\n",
       ".xr-icon-file-text2,\n",
       ".xr-no-icon {\n",
       "  display: inline-block;\n",
       "  vertical-align: middle;\n",
       "  width: 1em;\n",
       "  height: 1.5em !important;\n",
       "  stroke-width: 0;\n",
       "  stroke: currentColor;\n",
       "  fill: currentColor;\n",
       "}\n",
       "</style><pre class='xr-text-repr-fallback'>&lt;xarray.DataArray &#x27;power&#x27; (controller: 3)&gt; Size: 24B\n",
       "array([-28.32918301, -40.90401906, -48.29485467])\n",
       "Coordinates:\n",
       "    dof         &lt;U9 36B &#x27;PTO_Heave&#x27;\n",
       "    type        &lt;U4 16B &#x27;mech&#x27;\n",
       "  * controller  (controller) object 24B &#x27;p&#x27; &#x27;pi&#x27; &#x27;unstructured&#x27;</pre><div class='xr-wrap' style='display:none'><div class='xr-header'><div class='xr-obj-type'>xarray.DataArray</div><div class='xr-array-name'>'power'</div><ul class='xr-dim-list'><li><span class='xr-has-index'>controller</span>: 3</li></ul></div><ul class='xr-sections'><li class='xr-section-item'><div class='xr-array-wrap'><input id='section-82b6d1b3-398f-4885-af10-076bee3c17c3' class='xr-array-in' type='checkbox' checked><label for='section-82b6d1b3-398f-4885-af10-076bee3c17c3' title='Show/hide data repr'><svg class='icon xr-icon-database'><use xlink:href='#icon-database'></use></svg></label><div class='xr-array-preview xr-preview'><span>-28.33 -40.9 -48.29</span></div><div class='xr-array-data'><pre>array([-28.32918301, -40.90401906, -48.29485467])</pre></div></div></li><li class='xr-section-item'><input id='section-df6b789d-a85a-44e8-bc0b-0c23f06223f5' class='xr-section-summary-in' type='checkbox'  checked><label for='section-df6b789d-a85a-44e8-bc0b-0c23f06223f5' class='xr-section-summary' >Coordinates: <span>(3)</span></label><div class='xr-section-inline-details'></div><div class='xr-section-details'><ul class='xr-var-list'><li class='xr-var-item'><div class='xr-var-name'><span>dof</span></div><div class='xr-var-dims'>()</div><div class='xr-var-dtype'>&lt;U9</div><div class='xr-var-preview xr-preview'>&#x27;PTO_Heave&#x27;</div><input id='attrs-3cc82e80-b2d2-4d0b-83f5-495d5a1c0c7c' class='xr-var-attrs-in' type='checkbox' ><label for='attrs-3cc82e80-b2d2-4d0b-83f5-495d5a1c0c7c' title='Show/Hide attributes'><svg class='icon xr-icon-file-text2'><use xlink:href='#icon-file-text2'></use></svg></label><input id='data-d6a6daf3-23ef-4ddc-8b52-d75937989b3f' class='xr-var-data-in' type='checkbox'><label for='data-d6a6daf3-23ef-4ddc-8b52-d75937989b3f' title='Show/Hide data repr'><svg class='icon xr-icon-database'><use xlink:href='#icon-database'></use></svg></label><div class='xr-var-attrs'><dl class='xr-attrs'><dt><span>long_name :</span></dt><dd>PTO degree of freedom</dd></dl></div><div class='xr-var-data'><pre>array(&#x27;PTO_Heave&#x27;, dtype=&#x27;&lt;U9&#x27;)</pre></div></li><li class='xr-var-item'><div class='xr-var-name'><span>type</span></div><div class='xr-var-dims'>()</div><div class='xr-var-dtype'>&lt;U4</div><div class='xr-var-preview xr-preview'>&#x27;mech&#x27;</div><input id='attrs-9e5e5fc4-1243-40fb-8590-226c7cbadc9f' class='xr-var-attrs-in' type='checkbox' ><label for='attrs-9e5e5fc4-1243-40fb-8590-226c7cbadc9f' title='Show/Hide attributes'><svg class='icon xr-icon-file-text2'><use xlink:href='#icon-file-text2'></use></svg></label><input id='data-cd284db5-8a52-4bdd-abda-7d4b59294f42' class='xr-var-data-in' type='checkbox'><label for='data-cd284db5-8a52-4bdd-abda-7d4b59294f42' title='Show/Hide data repr'><svg class='icon xr-icon-database'><use xlink:href='#icon-database'></use></svg></label><div class='xr-var-attrs'><dl class='xr-attrs'><dt><span>long_name :</span></dt><dd>Power</dd><dt><span>units :</span></dt><dd>W</dd></dl></div><div class='xr-var-data'><pre>array(&#x27;mech&#x27;, dtype=&#x27;&lt;U4&#x27;)</pre></div></li><li class='xr-var-item'><div class='xr-var-name'><span class='xr-has-index'>controller</span></div><div class='xr-var-dims'>(controller)</div><div class='xr-var-dtype'>object</div><div class='xr-var-preview xr-preview'>&#x27;p&#x27; &#x27;pi&#x27; &#x27;unstructured&#x27;</div><input id='attrs-e1fdb77e-e68d-43d8-8761-7357362cfa1d' class='xr-var-attrs-in' type='checkbox' disabled><label for='attrs-e1fdb77e-e68d-43d8-8761-7357362cfa1d' title='Show/Hide attributes'><svg class='icon xr-icon-file-text2'><use xlink:href='#icon-file-text2'></use></svg></label><input id='data-10c9c6bd-06a6-43d1-a7cc-5fe8faee0527' class='xr-var-data-in' type='checkbox'><label for='data-10c9c6bd-06a6-43d1-a7cc-5fe8faee0527' title='Show/Hide data repr'><svg class='icon xr-icon-database'><use xlink:href='#icon-database'></use></svg></label><div class='xr-var-attrs'><dl class='xr-attrs'></dl></div><div class='xr-var-data'><pre>array([&#x27;p&#x27;, &#x27;pi&#x27;, &#x27;unstructured&#x27;], dtype=object)</pre></div></li></ul></div></li><li class='xr-section-item'><input id='section-ece9c702-b88c-49ef-a2d4-c3ef3895f3b3' class='xr-section-summary-in' type='checkbox'  ><label for='section-ece9c702-b88c-49ef-a2d4-c3ef3895f3b3' class='xr-section-summary' >Indexes: <span>(1)</span></label><div class='xr-section-inline-details'></div><div class='xr-section-details'><ul class='xr-var-list'><li class='xr-var-item'><div class='xr-index-name'><div>controller</div></div><div class='xr-index-preview'>PandasIndex</div><div></div><input id='index-cdb43db1-49df-40a5-87a0-f862b076f66c' class='xr-index-data-in' type='checkbox'/><label for='index-cdb43db1-49df-40a5-87a0-f862b076f66c' title='Show/Hide index repr'><svg class='icon xr-icon-database'><use xlink:href='#icon-database'></use></svg></label><div class='xr-index-data'><pre>PandasIndex(Index([&#x27;p&#x27;, &#x27;pi&#x27;, &#x27;unstructured&#x27;], dtype=&#x27;object&#x27;, name=&#x27;controller&#x27;))</pre></div></li></ul></div></li><li class='xr-section-item'><input id='section-cc13a038-f7b1-48be-8799-5f4acd575695' class='xr-section-summary-in' type='checkbox' disabled ><label for='section-cc13a038-f7b1-48be-8799-5f4acd575695' class='xr-section-summary'  title='Expand/collapse section'>Attributes: <span>(0)</span></label><div class='xr-section-inline-details'></div><div class='xr-section-details'><dl class='xr-attrs'></dl></div></li></ul></div></div>"
      ],
      "text/plain": [
       "<xarray.DataArray 'power' (controller: 3)> Size: 24B\n",
       "array([-28.32918301, -40.90401906, -48.29485467])\n",
       "Coordinates:\n",
       "    dof         <U9 36B 'PTO_Heave'\n",
       "    type        <U4 16B 'mech'\n",
       "  * controller  (controller) object 24B 'p' 'pi' 'unstructured'"
      ]
     },
     "execution_count": 50,
     "metadata": {},
     "output_type": "execute_result"
    }
   ],
   "source": [
    "pto_ds.squeeze().power.sel(type='mech').mean(dim='time')"
   ]
  }
 ],
 "metadata": {
  "kernelspec": {
   "display_name": "wot_dev",
   "language": "python",
   "name": "python3"
  },
  "language_info": {
   "codemirror_mode": {
    "name": "ipython",
    "version": 3
   },
   "file_extension": ".py",
   "mimetype": "text/x-python",
   "name": "python",
   "nbconvert_exporter": "python",
   "pygments_lexer": "ipython3",
   "version": "3.11.8"
  }
 },
 "nbformat": 4,
 "nbformat_minor": 5
}
