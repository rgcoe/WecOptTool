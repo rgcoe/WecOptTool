{
 "cells": [
  {
   "cell_type": "markdown",
   "metadata": {},
   "source": [
    "# Tutorial 4 - Pioneer\n",
    "This tutorial models a potential design for a WEC used to provide power to instruments in the [Pioneer Central Surface Mooring System](https://oceanobservatories.org/site/cp01cnsm/) within the National Science Foundation Ocean Observatories Initiative [Coastal Pioneer Array](https://oceanobservatories.org/array/coastal-pioneer-array/).\n",
    "This system has instrumentation to measure various meteorological, surface, near-surface, and seabed phenomena on the Continental Shelf-Slope and transmit back to shore.\n",
    "\n",
    "Unlike previous tutorials, this tutorial does not include an outer optimization loop.\n",
    "Instead, the focus here is on effectively modeling an optimization problem for the control of a unique WEC archetype with a pitch resonator PTO with several co-dependent components.\n",
    "This is completely setup in Part 1, and includes:\n",
    "\n",
    "* Expanding the control state vector\n",
    "* Custom PTO physics\n",
    "* Modeling non-hydrodynamic degrees of freedom\n",
    "\n",
    "This tutorial is divided into three parts.\n",
    "The first sets up the problem including the points above.\n",
    "The second and third show results using a regular and irregular wave, respectively.\n",
    "\n",
    "1. [Model setup](#1.-Model-setup)\n",
    "2. [Regular wave results](#2.-Regular-wave-results)\n",
    "3. [Irregular wave](#3.-Irregular-wave)\n",
    "\n",
    "\n",
    "<p><img src=https://oceanobservatories.org/wp-content/uploads/2015/09/Central-Surface-Mooring-Array-01-1.png alt=\"Diagram of the Pioneer device\" width=\"200\"></p>"
   ]
  },
  {
   "cell_type": "code",
   "execution_count": null,
   "metadata": {},
   "outputs": [],
   "source": [
    "import capytaine as cpy\n",
    "import autograd.numpy as np\n",
    "import matplotlib.pyplot as plt\n",
    "from scipy.linalg import block_diag\n",
    "\n",
    "import wecopttool as wot\n",
    "\n",
    "## set colorblind-friendly colormap for plots\n",
    "plt.style.use('tableau-colorblind10')"
   ]
  },
  {
   "cell_type": "markdown",
   "metadata": {},
   "source": [
    "## 1. Model setup\n",
    "\n",
    "### 1.1 Waves\n",
    "We start with setting up the different waves we want to model, as this will inform what to select for our frequency range, which we need throughout the rest of the problem setup. \n",
    "We will consider two waves: a regular wave and an irregular wave, both with typical characteristics of the deployment site.\n",
    "The regular wave is roughly at 0.35 Hz, the known pitch resonance frequency of the buoy.\n",
    "The irregular wave has a peak period of 5 seconds, matching that of the deployment site.\n",
    "\n",
    "Please refer to Tutorial 3 for information about selecting the number of realizations.\n",
    "For the purpose of the tutorial, the number of realizations has been set to 2 to reduce runtime.\n",
    "\n",
    "The procedure for determining an appropriate frequency array for irregular wave conditions is detailed at the end of this tutorial."
   ]
  },
  {
   "cell_type": "code",
   "execution_count": null,
   "metadata": {},
   "outputs": [],
   "source": [
    "fend = 1.875\n",
    "nfreq = 150\n",
    "f1 = fend / nfreq"
   ]
  },
  {
   "cell_type": "code",
   "execution_count": null,
   "metadata": {},
   "outputs": [],
   "source": [
    "# regular\n",
    "amplitude = 0.15\n",
    "wavefreq = 0.35\n",
    "waves_regular = wot.waves.regular_wave(f1, nfreq, wavefreq, amplitude)\n",
    "\n",
    "# irregular\n",
    "Hs = 1.5\n",
    "Tp = 5 \n",
    "\n",
    "nrealizations = 2\n",
    "\n",
    "fp = 1/Tp\n",
    "spectrum = lambda f: wot.waves.pierson_moskowitz_spectrum(f, fp, Hs)\n",
    "efth = wot.waves.omnidirectional_spectrum(f1, nfreq, spectrum, \"Pierson-Moskowitz\")\n",
    "waves_irregular = wot.waves.long_crested_wave(efth, nrealizations=nrealizations)"
   ]
  },
  {
   "cell_type": "markdown",
   "metadata": {},
   "source": [
    "We plot the wave elevation spectra to check if the chosen frequency array covers the main excitation frequency, converges to zero for larger frequencies and can capture multiple harmonics which are required for nonlinear dynamics, since the states are multiplied with each other."
   ]
  },
  {
   "cell_type": "code",
   "execution_count": null,
   "metadata": {},
   "outputs": [],
   "source": [
    "#TODO: highlight the harmonics if wave freq and Tp with other markers+colors\n",
    "fig, ax = plt.subplots()\n",
    "np.abs(waves_regular).plot(marker = 'x', label=\"regular\")\n",
    "np.abs(waves_irregular.sel(realization=0)).plot(marker = '*', label=\"irregular\")\n",
    "ax.set_title('Wave elevation spectrum', fontweight='bold')\n",
    "plt.legend()"
   ]
  },
  {
   "cell_type": "markdown",
   "metadata": {},
   "source": [
    "### 1.2 Basic properties\n",
    "\n",
    "#### Geometry\n",
    "To get the required hydrodynamic coefficients of the Pioneer design, we only need to be concerned with creating a mesh of the buoy geometry.\n",
    "The buoy has the same general shape as the WaveBot used in Tutorial 1, so we will use the build-in `geom.WaveBot` object and change the dimensions to simplify the mesh creation process."
   ]
  },
  {
   "cell_type": "code",
   "execution_count": null,
   "metadata": {},
   "outputs": [],
   "source": [
    "in2m = 0.0254 # inch -> meter conversion factor\n",
    "draft = 0.5 # meters\n",
    "freeboard = 40. * in2m - draft\n",
    "hull_geom = wot.geom.WaveBot(r1=130./2 * in2m,\n",
    "                             r2=110./2 * in2m, \n",
    "                             h1=22.679 * in2m,\n",
    "                             h2=17.321 * in2m,\n",
    "                             scale_factor=1,\n",
    "                             freeboard=freeboard)\n",
    "mesh = hull_geom.mesh(mesh_size_factor=0.5)\n",
    "_ = hull_geom.plot_cross_section()"
   ]
  },
  {
   "cell_type": "markdown",
   "metadata": {},
   "source": [
    "#### Design properties\n",
    "The Pioneer team has developed initial specifications for a full-sized WEC design that fits within the buoy dimensions and operating at resonance.\n",
    "There are several components that we need to capture in the PTO model:\n",
    "\n",
    "* **Buoy**: As mentioned, this has the same basic geometric parameters as the WaveBot used in Tutorial 1.\n",
    "Since we're only modeling the pitch degree of freedom, we only need the pitch moment of inertia and not the mass of the buoy.\n",
    "* **Flywheel**: The flywheel is contained and dimensioned to fit on top of the buoy.\n",
    "It rotates in pitch independently of the buoy, but is linked to the buoy through two parallel connections: the torsional spring and the generator.\n",
    "Since the flywheel is protected from wave loading by the buoy, it is **not** subject to hydrostatics or hydrodynamics.\n",
    "* **Spring**: The magnetic torsional spring provides positive stiffness to the flywheel.\n",
    "It has a linear displacement up to 45 degrees, at which point it \"wraps around\" and the stiffness begins decreasing.\n",
    "For simplicity, we will model the spring as strictly linear.\n",
    "The spring is connected to a gearbox which makes the position of the spring (and therefore, the generator shaft) different from the relative position of the flywheel and buoy. \n",
    "\n",
    "A rendering of the Pioneer WEC model is shown here with the buoy pitch in red and the flywheel pitch in green:\n",
    "<p><img src=https://live.staticflickr.com/65535/53025745404_2e75c89894_k.jpg alt=\"Diagram of the Pioneer device\" width=\"500\"></p>"
   ]
  },
  {
   "cell_type": "code",
   "execution_count": null,
   "metadata": {},
   "outputs": [],
   "source": [
    "buoy_props = {\n",
    "    'CG': 0.242, # m\n",
    "    'MOI': 7484., # kg-m^2\n",
    "    'Resonance frequency': 0.35, # Hz\n",
    "}\n",
    "\n",
    "flywheel_props = {\n",
    "    'MOI': 25,  # kg-m^2\n",
    "    'Coulomb friction': 2.0,  # N-m\n",
    "    'Viscous friction': 0.02,  # N-m/rad\n",
    "    'Gear ratio': 3, # -\n",
    "}\n",
    "\n",
    "spring_props = {\n",
    "    'Max torque': 750, # N-m\n",
    "    'Max displacement': np.deg2rad(45.0), # rad\n",
    "}"
   ]
  },
  {
   "cell_type": "markdown",
   "metadata": {},
   "source": [
    "#### Pitch resonator\n",
    "This system uses a unique PTO system, where the generator velocity is dependent on the relative pitching rotation of the buoy and the flywheel.\n",
    "The system can be modeled as a coupled spring-mass-damper system, with the generator represented as $B_{PTO}$.\n",
    "The spring-mass-damper system and equivalent circuit model are shown below.\n",
    "Note that all of these values are rotational and are drawn here linearly for simplicity. \n",
    "\n",
    "<p><img src=https://live.staticflickr.com/65535/53025028262_1a4ba2d5ce_z.jpg alt=\"Pioneer model as a spring-mass-damper system\" width=\"500\"> <img src=https://live.staticflickr.com/65535/53025140497_29c5b9d601_z.jpg alt=\"Pioneer model as a spring-mass-damper system\" width=\"180\"></p>\n",
    "\n",
    "This corresponds to the following dynamics equations:\n",
    "\n",
    "(1)\n",
    "\n",
    "$$ [J_{buoy} + J(\\omega))] \\ddot{\\theta}_{buoy} = T_{hydro} - K_{hydro}\\theta_{buoy} - B(\\omega)\\dot{\\theta}_{buoy} - K_{spring}(\\theta_{buoy} - \\theta_{flywheel})/N^2 - (B_{PTO} + B_{fric})(\\dot{\\theta}_{buoy} - \\dot{\\theta}_{flywheel}) $$\n",
    "\n",
    "(2)\n",
    "\n",
    "$$ J_{flywheel} \\ddot{\\theta}_{flywheel} = K_{spring}(\\theta_{buoy} - \\theta_{flywheel})/N^2 + (B_{PTO} + B_{fric})(\\dot{\\theta}_{buoy} - \\dot{\\theta}_{flywheel}) $$\n",
    "\n",
    "We will explore how to capture these dynamics in WecOptTool in the following sections."
   ]
  },
  {
   "cell_type": "markdown",
   "metadata": {},
   "source": [
    "#### Hydrodynamics and hydrostatics\n",
    "As mentioned above, the `FloatingBody` object in Capytaine only needs to model the buoy, since no other components are being excited by the waves."
   ]
  },
  {
   "cell_type": "code",
   "execution_count": null,
   "metadata": {},
   "outputs": [],
   "source": [
    "pnr_fb = cpy.FloatingBody.from_meshio(mesh, name=\"Pioneer\")\n",
    "pnr_fb.add_rotation_dof(name='Pitch')\n",
    "pnr_fb.center_of_mass = np.array([0., 0., buoy_props['CG']])\n",
    "pnr_fb.rotation_center = pnr_fb.center_of_mass\n",
    "ndof = pnr_fb.nb_dofs\n",
    "pnr_fb.show_matplotlib()"
   ]
  },
  {
   "cell_type": "code",
   "execution_count": null,
   "metadata": {},
   "outputs": [],
   "source": [
    "rho = 1025. # kg/m^3\n",
    "freq = wot.frequency(f1, nfreq, False) # False -> no zero frequency\n",
    "bem_data = wot.run_bem(pnr_fb, freq)\n",
    "omega = bem_data.omega.values\n",
    "\n",
    "pnr_fb.keep_immersed_part()\n",
    "k_buoy = pnr_fb.compute_hydrostatic_stiffness(rho=rho).values.squeeze()\n",
    "k_spring = spring_props['Max torque'] / spring_props['Max displacement']\n",
    "print(f'Hydrostatic stiffness from Capytaine: {k_buoy} N-m/rad')\n",
    "print('Hydrostatic stiffness from experiment: 37204 N-m/rad')"
   ]
  },
  {
   "cell_type": "markdown",
   "metadata": {},
   "source": [
    "As with previous tutorials, we will plot the hydrodynamic coefficients to confirm that we are properly capturing the full excitation range of the buoy."
   ]
  },
  {
   "cell_type": "code",
   "execution_count": null,
   "metadata": {},
   "outputs": [],
   "source": [
    "# Plots\n",
    "fig_am, ax_am = plt.subplots(tight_layout=True, sharex=True)\n",
    "fig_rd, ax_rd = plt.subplots(tight_layout=True, sharex=True)\n",
    "fig_ex, ax_ex = plt.subplots(tight_layout=True, sharex=True)\n",
    "\n",
    "# Excitation\n",
    "np.abs(bem_data.diffraction_force.sel(influenced_dof='Pitch')).plot(\n",
    "    ax=ax_ex, linestyle='dashed', label='Diffraction force')\n",
    "np.abs(bem_data.Froude_Krylov_force.sel(influenced_dof='Pitch')).plot(\n",
    "    ax=ax_ex, linestyle='dashdot', label='Froude-Krylov force')\n",
    "ex_handles, ex_labels = ax_ex.get_legend_handles_labels()\n",
    "ax_ex.set_xlabel(f'$\\omega$', fontsize=10)\n",
    "ax_ex.set_title('Wave Excitation Coefficients', fontweight='bold')\n",
    "fig_ex.legend(ex_handles, ex_labels, loc='center right', frameon=False)\n",
    "\n",
    "# Added mass\n",
    "bem_data.added_mass.sel(\n",
    "    radiating_dof='Pitch', influenced_dof='Pitch').plot(ax=ax_am)\n",
    "ax_am.set_xlabel(f'$\\omega$', fontsize=10)\n",
    "ax_am.set_title('Added Mass Coefficients', fontweight='bold')\n",
    "\n",
    "# Radiation damping\n",
    "bem_data.radiation_damping.sel(\n",
    "    radiating_dof='Pitch', influenced_dof='Pitch').plot(ax=ax_rd)\n",
    "ax_rd.set_xlabel(f'$\\omega$', fontsize=10)\n",
    "ax_rd.set_title('Radiation Damping Coefficients', fontweight='bold')"
   ]
  },
  {
   "cell_type": "markdown",
   "metadata": {},
   "source": [
    "### 1.3 PTO\n",
    "The generator shaft velocity is the difference between the buoy velocity and the flywheel velocity.\n",
    "Because the velocity PTO depends not only on the hydrodynamic states (`x_wec`, buoy pitch) but also on an additional non-hydrodynamic state (flywheel pitch), we cannot use the `PTO` module we have used in previous tutorials.\n",
    "We will make two adjustments to our previous modeling approach model to accurately model the PTO:\n",
    "\n",
    "1. Adjust the `x_opt` vector to include the flywheel motion\n",
    "2. Manually define the PTO dynamics and energy equations in place on the `PTO` module"
   ]
  },
  {
   "cell_type": "markdown",
   "metadata": {},
   "source": [
    "#### Capturing flywheel motions\n",
    "In previous tutorials, all the relevant WEC dynamics have been captured in the `x_wec` vector.\n",
    "However, `x_wec` assumes all the degrees of freedom are excited by waves, which is not the case for the flywheel in the Pioneer model.\n",
    "Instead, we will include the flywheel dynamics in the `x_opt` vector.\n",
    "\n",
    "The `x_opt` vector has previously only been used to model the PTO force.\n",
    "However, there is no limit to what `x_opt` can include; it can theoretically include anything that is needed to model the PTO control.\n",
    "Here, we will append the Fourier coefficients of the flywheel's position to `x_opt`.\n",
    "The first part of `x_opt` will continue to be used for the PTO force (i.e. Fourier coefficients of the force time-series for an unstructured controller). \n",
    "\n",
    "Note in the code further down that `x_opt` will be spliced as either `x_opt[:nstate_pto]` to exclude the flywheel position states, or `x_opt[nstate_pto:]` to exclude the PTO force states.\n",
    "Remember, `x_opt` can be defined arbitrarily, and specific meanings to the states are given elsewhere in the model."
   ]
  },
  {
   "cell_type": "code",
   "execution_count": null,
   "metadata": {},
   "outputs": [],
   "source": [
    "nstate_pto = 2 * nfreq # PTO forces\n",
    "nstate_fw = 2 * nfreq  # Flywheel positions\n",
    "nstate_opt = nstate_pto + nstate_fw"
   ]
  },
  {
   "cell_type": "markdown",
   "metadata": {},
   "source": [
    "#### Manually defining PTO equations\n",
    "Instead of calling the `PTO` module, we will manually define the dynamics and energy equations needed for WecOptTool to calculate electrical power, our quantity of interest for this optimization problem.\n",
    "These equations are also needed for the additional forces and constraints defined later on.\n",
    "\n",
    "##### Relative motion\n",
    "Here we define functions for the relative motion of the buoy and flywheel, derived from `x_wec` and `x_opt` respectively."
   ]
  },
  {
   "cell_type": "code",
   "execution_count": null,
   "metadata": {},
   "outputs": [],
   "source": [
    "def x_rel(wec, x_wec, x_opt):\n",
    "    pos_wec = wec.vec_to_dofmat(x_wec)\n",
    "    pos_fw = wec.vec_to_dofmat(x_opt[nstate_pto:])\n",
    "    return pos_wec - pos_fw\n",
    "\n",
    "def rel_position(wec, x_wec, x_opt, waves, nsubsteps=1):\n",
    "    pos_rel = x_rel(wec, x_wec, x_opt)\n",
    "    time_matrix = wec.time_mat_nsubsteps(nsubsteps)\n",
    "    return np.dot(time_matrix, pos_rel)\n",
    "\n",
    "def rel_velocity(wec, x_wec, x_opt, waves, nsubsteps=1):\n",
    "    pos_rel = x_rel(wec, x_wec, x_opt)\n",
    "    vel_rel = np.dot(wec.derivative_mat, pos_rel)\n",
    "    time_matrix = wec.time_mat_nsubsteps(nsubsteps)\n",
    "    return np.dot(time_matrix, vel_rel)"
   ]
  },
  {
   "cell_type": "markdown",
   "metadata": {},
   "source": [
    "##### Unstructured controller\n",
    "This is nearly identical to the `wot.pto.controller_unstructured` function, except `x_opt` is spliced to only include the first part, since we are also including the flywheel positions in the second part of `x_opt`."
   ]
  },
  {
   "cell_type": "code",
   "execution_count": null,
   "metadata": {},
   "outputs": [],
   "source": [
    "def f_motor(wec, x_wec, x_opt, waves, nsubsteps=1):\n",
    "    motor = np.reshape(x_opt[:nstate_pto], (-1, ndof), order='F')\n",
    "    time_matrix = wec.time_mat_nsubsteps(nsubsteps)\n",
    "    return np.dot(time_matrix, motor)"
   ]
  },
  {
   "cell_type": "markdown",
   "metadata": {},
   "source": [
    "##### PTO Impedance\n",
    "The PTO impedance is defined using the same 2-port impedance model as in previous tutorials.\n",
    "The drivetrain inertia, friction, and stiffness are not included here since they are accounted for in the modeling of the additional non-hydrodynamic degree of freedom via additional forces and constraints below."
   ]
  },
  {
   "cell_type": "code",
   "execution_count": null,
   "metadata": {},
   "outputs": [],
   "source": [
    "torque_constant = 3.512\n",
    "winding_resistance = 0.304\n",
    "\n",
    "z_11 = np.array([[np.zeros(omega.shape)]])\n",
    "off_diag = np.sqrt(3.0/2.0) * torque_constant\n",
    "z_12 = np.array([[-1*(off_diag+0j) * np.ones(omega.shape)]])\n",
    "z_21 = np.array([[-1*(off_diag+0j) * np.ones(omega.shape)]])\n",
    "z_22 = np.array([[winding_resistance * np.ones(omega.shape)]])"
   ]
  },
  {
   "cell_type": "markdown",
   "metadata": {},
   "source": [
    "When using the `PTO` module, the 2x2 impedance matrix is passed to the `wot.pto.PTO` object and converted into a transfer matrix to calculate the power at each frequency.\n",
    "While we are not using the `PTO` module, we will repeat this process almost verbatim here.\n",
    "See the `_make_abcd` and `_make_mimo_transfer_mat` functions in the `PTO` module if you are interested in more technical details."
   ]
  },
  {
   "cell_type": "code",
   "execution_count": null,
   "metadata": {},
   "outputs": [],
   "source": [
    "z_12_inv = np.linalg.inv(z_12.T).T\n",
    "mmult = lambda a,b: np.einsum('mnr,mnr->mnr', a, b)\n",
    "abcd_11 = -1 * mmult(z_12_inv, z_11)\n",
    "abcd_12 = z_12_inv\n",
    "abcd_21 = z_21 - mmult(z_22, mmult(z_12_inv, z_11))\n",
    "abcd_22 = mmult(z_22, z_12_inv)\n",
    "row_1 = np.hstack([abcd_11, abcd_12])\n",
    "row_2 = np.hstack([abcd_21, abcd_22])\n",
    "abcd = np.vstack([row_1, row_2])\n",
    "\n",
    "for idof in range(2):\n",
    "    for jdof in range(2):\n",
    "        Zp = abcd[idof, jdof, :]\n",
    "        re = np.real(Zp)\n",
    "        im = np.imag(Zp)\n",
    "        blocks = [np.array([[ire, iim], [iim, ire]])\n",
    "                           for (ire, iim) in zip(re[:-1], im[:-1])]\n",
    "        blocks = [re[0]] + blocks + [re[-1]]\n",
    "        if jdof==0:\n",
    "            row = block_diag(*blocks)\n",
    "        else:\n",
    "            row = np.hstack([row, block_diag(*blocks)])\n",
    "    if idof==0:\n",
    "        transfer_mat = row\n",
    "    else:\n",
    "        transfer_mat = np.vstack([transfer_mat, row])"
   ]
  },
  {
   "cell_type": "markdown",
   "metadata": {},
   "source": [
    "##### Power and Energy\n",
    "Finally, we will wrap the relative motions, force, and impedance functions together to calculate average electrical power.\n",
    "This is again very close to what is found in the `PTO` module, except `rel_velocity` replaces `wot.pto.PTO.velocity` and `f_motor` replaces `wot.pto.PTO.force`."
   ]
  },
  {
   "cell_type": "code",
   "execution_count": null,
   "metadata": {},
   "outputs": [],
   "source": [
    "def mechanical_power(wec, x_wec, x_opt, waves, nsubsteps=1):\n",
    "    force_td = f_motor(wec, x_wec, x_opt, waves, nsubsteps)\n",
    "    vel_td = rel_velocity(wec, x_wec, x_opt, waves, nsubsteps)\n",
    "    return vel_td * force_td\n",
    "\n",
    "def electrical_power(wec, x_wec, x_opt, waves, nsubsteps=1):\n",
    "    q1_td = rel_velocity(wec, x_wec, x_opt, waves)\n",
    "    e1_td = f_motor(wec, x_wec, x_opt, waves)\n",
    "    q1 = wot.complex_to_real(wec.td_to_fd(q1_td, False))\n",
    "    e1 = wot.complex_to_real(wec.td_to_fd(e1_td, False))\n",
    "    vars_1 = np.hstack([q1, e1])\n",
    "    vars_1_flat = wec.dofmat_to_vec(vars_1)\n",
    "    vars_2_flat = np.dot(transfer_mat, vars_1_flat)\n",
    "    vars_2 = wot.vec_to_dofmat(vars_2_flat, 2)\n",
    "    q2 = vars_2[:, 0]\n",
    "    e2 = vars_2[:, 1]\n",
    "    time_mat = wec.time_mat_nsubsteps(nsubsteps)\n",
    "    q2_td = np.dot(time_mat, q2)\n",
    "    e2_td = np.dot(time_mat, e2)\n",
    "    return q2_td * e2_td\n",
    "\n",
    "def energy(wec, x_wec, x_opt, waves, nsubsteps=1):\n",
    "    power_td = electrical_power(wec, x_wec, x_opt, waves, nsubsteps)\n",
    "    return np.sum(power_td) * wec.dt/nsubsteps\n",
    "\n",
    "def average_electrical_power(wec, x_wec, x_opt, waves, nsubsteps=1):\n",
    "    e = energy(wec, x_wec, x_opt, waves, nsubsteps)\n",
    "    return e / wec.tf"
   ]
  },
  {
   "cell_type": "markdown",
   "metadata": {},
   "source": [
    "### 1.4 Constraints\n",
    "The Pioneer model only contains one constraint based on the motor being used:\n",
    "\n",
    " * **Peak torque** - The motor should avoid torques greater than 120 N-m.\n",
    " This is the same basic constraint as `const_f_pto` from Tutorial 1, except we use our `f_motor` definition instead of `wot.pto.PTO.force_on_wec`."
   ]
  },
  {
   "cell_type": "code",
   "execution_count": null,
   "metadata": {},
   "outputs": [],
   "source": [
    "torque_peak_max = 120.\n",
    "def const_peak_torque_pto(wec, x_wec, x_opt, waves, nsubsteps=5):\n",
    "    torque = f_motor(wec, x_wec, x_opt, waves, nsubsteps)\n",
    "    return torque_peak_max - np.abs(torque.flatten())"
   ]
  },
  {
   "cell_type": "markdown",
   "metadata": {},
   "source": [
    "### 1.5 Additional forces\n",
    "Here we add in the forces acting on the bodies other than those generated from wave loading.\n",
    "\n",
    " * **Motor damping** - The resisting torque resulting from the damping on the PTO.\n",
    " This is very similar to the `wot.pto.PTO.force_on_wec` additional force given in previous tutorials. \n",
    " This is already being accounted for by the `f_motor` function above.\n",
    " * **Flywheel friction** - The dissipative torque from the generator and components.\n",
    " This is defined as a nonlinear force using both Coulomb friction (dependent on the PTO direction) and the viscous friction (dependent on the PTO speed).\n",
    " * **Magnetic spring** - The restoring torque caused by the torsional spring between the buoy and flywheel.\n",
    " Note the gear ratio is included in this equation, as the gearbox is connected in series with the spring.\n",
    " The position of the spring is the relative position of the flywheel and buoy scaled by the reciprocal of gear ratio squared. "
   ]
  },
  {
   "cell_type": "code",
   "execution_count": null,
   "metadata": {},
   "outputs": [],
   "source": [
    "def f_friction(wec, x_wec, x_opt, waves, nsubsteps=1):\n",
    "    rel_vel = rel_velocity(wec, x_wec, x_opt, waves, nsubsteps)\n",
    "    return -1 * (\n",
    "        np.tanh(rel_vel) * flywheel_props['Coulomb friction']\n",
    "      + rel_vel * flywheel_props['Viscous friction']\n",
    "    )\n",
    "\n",
    "def f_spring(wec, x_wec, x_opt, waves, nsubsteps=1):\n",
    "    pos = rel_position(wec, x_wec, x_opt, waves, nsubsteps) / (flywheel_props['Gear ratio']**2)\n",
    "    spring_force = -k_spring  * pos\n",
    "    return spring_force"
   ]
  },
  {
   "cell_type": "markdown",
   "metadata": {},
   "source": [
    "### 1.6 Flywheel residual equation\n",
    "To make sure the flywheel dynamics are properly modeled in the pseudo-spectral method, we will introduce an equality constraint consisting of Newton's 2nd law of motion on the flywheel in residual form:\n",
    "\n",
    "$$ r(x) = I \\alpha - \\tau = 0 $$\n",
    "\n",
    "This is the same structure as the residual for the WEC dynamics described in the [WecOptTool theory documentation](https://sandialabs.github.io/WecOptTool/theory.html).\n",
    "Also compare this equation to the 2nd dynamics equation listed [above](#pitch-resonator).\n",
    "\n",
    "This is required because the equations of motion described by `x_wec` only capture the buoy pitch degree of freedom.\n",
    "This equation provides a second equality constraint to capture the flywheel pitch degree of freedom, resulting in two coupled dynamic equations."
   ]
  },
  {
   "cell_type": "code",
   "execution_count": null,
   "metadata": {},
   "outputs": [],
   "source": [
    "def fw_inertia(wec, x_wec, x_opt, waves, nsubsteps=1):\n",
    "    pos_fw = wec.vec_to_dofmat(x_opt[nstate_pto:])\n",
    "    acc_fw = np.dot(wec.derivative2_mat, pos_fw)\n",
    "    time_matrix = wec.time_mat_nsubsteps(nsubsteps)\n",
    "    acc_fw = np.dot(time_matrix, acc_fw)\n",
    "    return flywheel_props['MOI'] * acc_fw\n",
    "\n",
    "def const_flywheel_resid(wec, x_wec, x_opt, waves):\n",
    "    return (fw_inertia(wec, x_wec, x_opt, waves)\n",
    "          + f_spring(wec, x_wec, x_opt, waves)\n",
    "          + f_friction(wec, x_wec, x_opt, waves)\n",
    "          + f_motor(wec, x_wec, x_opt, waves)\n",
    "          ).flatten()"
   ]
  },
  {
   "cell_type": "markdown",
   "metadata": {},
   "source": [
    "We now create the additional forces and constaints that will be passed to the `WEC` object.\n",
    "Note that `f_add` only pertains to the buoy since that is the only degree of freedom included in the BEM data; our flywheel residual equation handles these forces for the flywheel in the opposite direction."
   ]
  },
  {
   "cell_type": "code",
   "execution_count": null,
   "metadata": {},
   "outputs": [],
   "source": [
    "f_add = {\n",
    "    'Motor': f_motor,\n",
    "    'Friction': f_friction,\n",
    "    'Spring': f_spring,   \n",
    "}\n",
    "\n",
    "constraints = [\n",
    "    {'type': 'ineq', 'fun': const_peak_torque_pto},\n",
    "    {'type': 'eq', 'fun': const_flywheel_resid},\n",
    "]"
   ]
  },
  {
   "cell_type": "markdown",
   "metadata": {},
   "source": [
    "### 1.7 WEC object\n",
    "We now have all the information required to create our `WEC` object."
   ]
  },
  {
   "cell_type": "code",
   "execution_count": null,
   "metadata": {},
   "outputs": [],
   "source": [
    "wec = wot.WEC.from_bem(bem_data,\n",
    "                       f_add=f_add,\n",
    "                       constraints=constraints,\n",
    "                       uniform_shift=False,\n",
    "                       dof_names=bem_data.influenced_dof.values,)"
   ]
  },
  {
   "cell_type": "markdown",
   "metadata": {},
   "source": [
    "## 2. Regular wave results\n",
    "\n",
    "### 2.1 Solve\n",
    "As in previous tutorials, we will optimize for electrical power absorption."
   ]
  },
  {
   "cell_type": "code",
   "execution_count": null,
   "metadata": {},
   "outputs": [],
   "source": [
    "obj_fun = average_electrical_power\n",
    "results = wec.solve(\n",
    "    waves_regular,\n",
    "    obj_fun,\n",
    "    nstate_opt,\n",
    "    scale_x_wec=1e1,\n",
    "    scale_x_opt=1e-2,\n",
    "    scale_obj=1e-2,\n",
    ")\n",
    "print(f'Optimal average power: {results[0].fun:.2f} W')"
   ]
  },
  {
   "cell_type": "markdown",
   "metadata": {},
   "source": [
    "### 2.2 Post-process and plot\n",
    "Again, since we are not using the `PTO` module, post-processing using `wot.pto.PTO.post_process` is not an option here, so we have to manually post-process the outputs related to the PTO and flywheel.\n",
    "This is pretty intuitive using the functions we created earlier.\n",
    "The outputs related to the buoy can still be derived directly from `wot.wec.post_process`."
   ]
  },
  {
   "cell_type": "code",
   "execution_count": null,
   "metadata": {},
   "outputs": [],
   "source": [
    "nsubsteps = 5\n",
    "wec_fdom, wec_tdom = wec.post_process(wec, results, waves_regular, nsubsteps=nsubsteps)\n",
    "\n",
    "# Manually post-process PTO and flywheel outputs\n",
    "x_wec, x_opt = wot.decompose_state(results[0].x, 1, nfreq)\n",
    "fw_pos = np.dot(wec.time_mat_nsubsteps(nsubsteps), x_opt[nstate_pto:])\n",
    "pto_pos = rel_position(wec, x_wec, x_opt, waves_regular.sel(realization=0), nsubsteps)\n",
    "pto_vel = rel_velocity(wec, x_wec, x_opt, waves_regular.sel(realization=0), nsubsteps)\n",
    "pto_force = f_motor(wec, x_wec, x_opt, waves_regular.sel(realization=0), nsubsteps)\n",
    "pto_force_fd = wec.td_to_fd(pto_force[::nsubsteps])\n",
    "pto_mech_power = mechanical_power(wec, x_wec, x_opt, waves_regular.sel(realization=0), nsubsteps)\n",
    "pto_elec_power = electrical_power(wec, x_wec, x_opt, waves_regular.sel(realization=0), nsubsteps)\n",
    "avg_mech_power = np.mean(pto_mech_power)\n",
    "avg_elec_power = np.mean(pto_elec_power)\n"
   ]
  },
  {
   "cell_type": "markdown",
   "metadata": {},
   "source": [
    "Some observations about the optimized Pioneer model:\n",
    "\n",
    " * The flywheel and buoy match frequency, but are out of phase due to the forcing from the spring and motor applied to both bodies.\n",
    " * The gearing in series with the torsional spring (which reduces the effective spring stiffness) significantly amplifies the rotation of the flywheel despite the buoy only pitching modestly.\n",
    " The gear ratio of 3 was selected by the Pioneer team to keep the system in resonance considering the spring stiffness, moment of inertia of the flywheel, and the resonance frequency of the buoy.\n",
    " Try increasing the gear ratio or flywheel moment of inertia—this will actually reduce the power generated since it will bring the effective stiffness of the flywheel out of resonance, causing less motion relative to the buoy.\n",
    " * The mechanical and electrical power outputs are similar, since our impedance model has only a small amount of resistance and no inductance.\n",
    " * The buoy's pitch amplitude is larger than expected for this device and is likely due to underestimation of the radiation damping by the BEM. "
   ]
  },
  {
   "cell_type": "code",
   "execution_count": null,
   "metadata": {},
   "outputs": [],
   "source": [
    "fig, ax = plt.subplots(nrows=4, sharex=True, figsize=(12, 12))\n",
    "t = wec_tdom[0].time.values\n",
    "\n",
    "# Positions\n",
    "ax[0].plot(t, fw_pos*180/np.pi, label='Flywheel', c='k')\n",
    "ax[0].plot(t, pto_pos*180/np.pi, label='PTO', c='k', ls='--')\n",
    "ax[0].set_title('Pitch Displacements')\n",
    "ax[0].set_ylabel('Position [deg]')\n",
    "ax[0].legend()\n",
    "\n",
    "ax0 = ax[0].twinx()\n",
    "ax0.tick_params(axis='y', labelcolor='b')\n",
    "(wec_tdom[0].pos*180/np.pi).plot(hue='influenced_dof', label='Buoy', ax=ax0, c='b')\n",
    "ax0.set_ylabel('Buoy pos. [deg]', color='b')\n",
    "ax0.set_title('')\n",
    "\n",
    "# Torques\n",
    "ax[1].plot(t, pto_force, c='k')\n",
    "ax[1].plot([t[0], t[-1]], [torque_peak_max, torque_peak_max], 'k--')\n",
    "ax[1].plot([t[0], t[-1]], [-1*torque_peak_max, -1*torque_peak_max], 'k--')\n",
    "ax[1].set_ylabel('PTO torque [N-m]')\n",
    "ax[1].set_title('Torque')\n",
    "\n",
    "ax1 = ax[1].twinx()\n",
    "ax1.tick_params(axis='y', labelcolor='b')\n",
    "wec_tdom[0]['force'].sel(type=['Froude_Krylov', 'diffraction']).sum('type').plot(ax=ax1, c='b')\n",
    "ax1.set_ylabel('Excitation torque [N-m]', color='b')\n",
    "ax1.set_title('Torque')\n",
    "\n",
    "# PTO Velocity\n",
    "ax[2].plot(t, pto_vel)\n",
    "ax[2].set_title('PTO Velocity')\n",
    "ax[2].set_ylabel('Velocity [deg/s]')\n",
    "\n",
    "# Power\n",
    "ax[3].plot(t, pto_mech_power, label='Mech. power ($\\\\bar{P}_{mech}$: ' + f'{avg_mech_power:.1f} W)')\n",
    "ax[3].plot(t, pto_elec_power, linestyle='dashdot', label='Elec. power ($\\\\bar{P}_{elec}$: ' + f'{avg_elec_power:.1f} W)')\n",
    "ax[3].set_title('Power Output')\n",
    "ax[3].set_ylabel('Power [W]')\n",
    "ax[3].legend()\n",
    "ax[3].set_xlabel('Time [s]')\n",
    "\n",
    "for axi in ax:\n",
    "    axi.grid()\n",
    "    axi.label_outer()\n",
    "    axi.autoscale(axis='x', tight=True)"
   ]
  },
  {
   "cell_type": "markdown",
   "metadata": {},
   "source": [
    "### 2.3 Sankey Diagram\n",
    "We use a Sankey diagram to visualize the average power flow from waves to electricity.\n",
    "The left end shows the theoretically possible optimal excitation.\n",
    "In order to reach this upper bound of excitation, the WEC pitch velocity would need to be in phase with the pitch excitation force (or, in this case, the radiated power is equal the amount of absorbed mechanical power).\n",
    "In practice, this will usually imply putting electrical power into the system (something we want to avoid!!!).\n",
    "\n",
    "With co-design, we are instead tapping the unused potential while limiting PTO losses and radiated power."
   ]
  },
  {
   "cell_type": "code",
   "execution_count": null,
   "metadata": {},
   "outputs": [],
   "source": [
    "hydro_data = wot.add_linear_friction(bem_data, friction=None)    \n",
    "hydro_data = wot.check_radiation_damping(hydro_data, uniform_shift=False)    \n",
    "\n",
    "Zi = wot.hydrodynamic_impedance(hydro_data)\n",
    "Rad_res = np.real(Zi.squeeze())\n",
    "\n",
    "Fex = wec_fdom[0].force.sel(type=['Froude_Krylov', 'diffraction']).sum('type')\n",
    "Vel = wec_fdom[0].vel\n",
    "\n",
    "P_max_absorbable = (np.abs(Fex)**2/(8*Rad_res) ).squeeze().sum('omega').item() # after Falnes Eq. 6.10\n",
    "P_opt_excitation = 2*P_max_absorbable # after Falnes Eq. 6.10\n",
    "P_radiated = ((1/2)*(Rad_res * np.abs(Vel)**2 ).squeeze().sum('omega').item()) # after Falnes Eq. 6.4\n",
    "P_excited= (1/4)*(Fex*np.conjugate(Vel) + np.conjugate(Fex)*Vel ).squeeze().sum('omega').item() # after Falnes Eq. 6.3\n",
    "\n",
    "power_flows = {'Optimal Excitation' : -2* (np.real(P_max_absorbable)),    \n",
    "            'Radiated': -1*(np.real(P_radiated)), \n",
    "            'Actual Excitation': -1*(np.real(P_excited)), \n",
    "}\n",
    "power_flows['Unused Potential'] =  power_flows['Optimal Excitation'] - power_flows['Actual Excitation']\n",
    "power_flows['Absorbed'] =  power_flows['Actual Excitation'] - power_flows['Radiated']  # after Falnes Eq. 6.2 \n",
    "#absorbed by WEC-PTO (difference between actual excitation power and actual radiated power needs to be absorbed by PTO)"
   ]
  },
  {
   "cell_type": "markdown",
   "metadata": {},
   "source": [
    "We also calculate the power dissipated due to flywheel friction and make sure that the absorbed power (calculated as the difference between excited and radiated power) matches the sum of mechanical power captured by the PTO and the power dissipated due to flywheel friction.\n",
    "We use a relative tolerance of 1%."
   ]
  },
  {
   "cell_type": "code",
   "execution_count": null,
   "metadata": {},
   "outputs": [],
   "source": [
    "def fw_velocity(wec, x_wec, x_opt, waves, nsubsteps=1):\n",
    "    pos_fw = wec.vec_to_dofmat(x_opt[nstate_pto:])\n",
    "    vel_fw = np.dot(wec.derivative_mat, pos_fw)\n",
    "    time_matrix = wec.time_mat_nsubsteps(nsubsteps)\n",
    "    return np.dot(time_matrix, vel_fw)\n",
    "\n",
    "def fw_friction_power(wec, x_wec, x_opt, waves, nsubsteps=1):\n",
    "    force_td = f_friction(wec, x_wec, x_opt, waves, nsubsteps)\n",
    "    vel_td = fw_velocity(wec, x_wec, x_opt, waves, nsubsteps)\n",
    "    return vel_td * force_td\n",
    "\n",
    "fw_fric_power = fw_friction_power(wec, x_wec, x_opt, waves_regular, nsubsteps)\n",
    "avg_fw_fric_power = np.mean(fw_fric_power)\n"
   ]
  },
  {
   "cell_type": "code",
   "execution_count": null,
   "metadata": {},
   "outputs": [],
   "source": [
    "power_flows['Electrical (solver)']= avg_elec_power  #solver determines sign\n",
    "power_flows['Mechanical (solver)']= avg_mech_power - avg_fw_fric_power #solver determines sign, friction is dissipated\n",
    "power_flows['PTO Loss'] = power_flows['Mechanical (solver)'] -  power_flows['Electrical (solver)'] "
   ]
  },
  {
   "cell_type": "code",
   "execution_count": null,
   "metadata": {},
   "outputs": [],
   "source": [
    "wot.utilities.plot_power_flow(power_flows)"
   ]
  },
  {
   "cell_type": "markdown",
   "metadata": {},
   "source": [
    "## 3. Irregular wave\n",
    "\n",
    "### 3.1 Solve\n",
    "We will now run the same analysis for irregular waves. \n",
    "\n",
    "Interestingly, due to the narrow banded resonance of the flywheel, the controller attempts to make the excitation force monochromatic with the resonant frequency.\n",
    "To achieve this, it uses significant reactive power (power by the PTO into the system).\n",
    "This is still worth it though, resulting in a larger average electrical power output.\n",
    "\n",
    "As noted previously, the optimization problem is solved for each wave realization.\n",
    "The optimal average power shown is the total average across the different realizations."
   ]
  },
  {
   "cell_type": "code",
   "execution_count": null,
   "metadata": {},
   "outputs": [],
   "source": [
    "obj_fun = average_electrical_power\n",
    "results = wec.solve(\n",
    "    waves_irregular,\n",
    "    obj_fun,\n",
    "    nstate_opt,\n",
    "    scale_x_wec=1e1,\n",
    "    scale_x_opt=1e-2,\n",
    "    scale_obj=1e-2,\n",
    ")\n",
    "power_results = [result.fun for result in results]\n",
    "print(f'Optimal average power: {np.mean(power_results):.2f} W')"
   ]
  },
  {
   "cell_type": "markdown",
   "metadata": {},
   "source": [
    "### 3.2 Post-process and plot"
   ]
  },
  {
   "cell_type": "code",
   "execution_count": null,
   "metadata": {},
   "outputs": [],
   "source": [
    "nsubsteps = 5\n",
    "wec_fdom, wec_tdom = wec.post_process(wec,results, waves_irregular, nsubsteps=nsubsteps)\n",
    "\n",
    "# Manually post-process PTO and flywheel outputs\n",
    "x_wec, x_opt = wot.decompose_state(results[0].x, 1, nfreq)\n",
    "fw_pos = np.dot(wec.time_mat_nsubsteps(nsubsteps), x_opt[nstate_pto:])\n",
    "pto_pos = rel_position(wec, x_wec, x_opt, waves_irregular.sel(realization=0), nsubsteps)\n",
    "pto_vel = rel_velocity(wec, x_wec, x_opt, waves_irregular.sel(realization=0), nsubsteps)\n",
    "pto_force = f_motor(wec, x_wec, x_opt, waves_irregular.sel(realization=0), nsubsteps)\n",
    "pto_force_fd = wec.td_to_fd(pto_force[::nsubsteps])\n",
    "pto_mech_power = mechanical_power(wec, x_wec, x_opt, waves_irregular.sel(realization=0), nsubsteps)\n",
    "pto_elec_power = electrical_power(wec, x_wec, x_opt, waves_irregular.sel(realization=0), nsubsteps)\n",
    "avg_mech_power = np.mean(pto_mech_power)\n",
    "avg_elec_power = np.mean(pto_elec_power)"
   ]
  },
  {
   "cell_type": "code",
   "execution_count": null,
   "metadata": {},
   "outputs": [],
   "source": [
    "fig, ax = plt.subplots(nrows=4, sharex=True, figsize=(12, 12))\n",
    "t = wec_tdom[0].time.values\n",
    "\n",
    "# Positions\n",
    "ax[0].plot(t, fw_pos*180/np.pi, label='Flywheel', c='k')\n",
    "ax[0].plot(t, pto_pos*180/np.pi, label='PTO', c='k', ls='--')\n",
    "ax[0].set_title('Pitch Displacements')\n",
    "ax[0].set_ylabel('Position [deg]')\n",
    "ax[0].legend()\n",
    "\n",
    "ax0 = ax[0].twinx()\n",
    "ax0.tick_params(axis='y', labelcolor='b')\n",
    "(wec_tdom[0].pos*180/np.pi).plot(hue='influenced_dof', label='Buoy', ax=ax0, c='b')\n",
    "ax0.set_ylabel('Buoy pos. [deg]', color='b')\n",
    "ax0.set_title('')\n",
    "\n",
    "# Torques\n",
    "ax[1].plot(t, pto_force, c='k')\n",
    "ax[1].plot([t[0], t[-1]], [torque_peak_max, torque_peak_max], 'k--')\n",
    "ax[1].plot([t[0], t[-1]], [-1*torque_peak_max, -1*torque_peak_max], 'k--')\n",
    "ax[1].set_ylabel('PTO torque [N-m]')\n",
    "ax[1].set_title('Torque')\n",
    "\n",
    "ax1 = ax[1].twinx()\n",
    "ax1.tick_params(axis='y', labelcolor='b')\n",
    "wec_tdom[0]['force'].sel(type=['Froude_Krylov', 'diffraction']).sum('type').plot(ax=ax1, c='b')\n",
    "ax1.set_ylabel('Excitation torque [N-m]', color='b')\n",
    "ax1.set_title('Torque')\n",
    "\n",
    "# PTO Velocity\n",
    "ax[2].plot(t, pto_vel)\n",
    "ax[2].set_title('PTO Velocity')\n",
    "ax[2].set_ylabel('Velocity [deg/s]')\n",
    "\n",
    "# Power\n",
    "ax[3].plot(t, pto_mech_power, label='Mech. power ($\\\\bar{P}_{mech}$: ' + f'{avg_mech_power:.1f} W)')\n",
    "ax[3].plot(t, pto_elec_power, linestyle='dashdot', label='Elec. power ($\\\\bar{P}_{elec}$: ' + f'{avg_elec_power:.1f} W)')\n",
    "ax[3].set_title('Power Output')\n",
    "ax[3].set_ylabel('Power [W]')\n",
    "ax[3].legend()\n",
    "ax[3].set_xlabel('Time [s]')\n",
    "\n",
    "for axi in ax:\n",
    "    axi.grid()\n",
    "    axi.label_outer()\n",
    "    axi.autoscale(axis='x', tight=True)"
   ]
  },
  {
   "cell_type": "markdown",
   "metadata": {},
   "source": [
    "### 3.3 Notes on selection of frequency array and realizations\n",
    "In order to determine a suitable frequency range, it is best to complete an optimization with a large frequency range and examine the frequency domain results to see how large a range of frequencies is necessary to capture the relavent dynamics.\n",
    "Often, capturing nonlinear dynamics (such as due to constraints) requires a larger frequency range.\n",
    "In the case of the Pioneer WEC, it is clear that (likely due to the PTO torque constraint) the nonlinearities cause excitation at the odd harmonics of the excited frequency (which is slightly larger than the wave frequency itself for the Pioneer system).\n",
    "Specifically, the PTO force has significant peaks around the excited frequency and at the 3rd harmonic (with a small peak at the 5th harmonic as well) which leads to peaks in the frequency spectrum of electrical power at the 2nd, 4th, and 6th harmonics.\n",
    "The frequency values are normalized in the plots below to more clearly show the harmonics.\n",
    "In order to capture most of these nonlinearities, we chose a frequency range from 0 to 1.875 for this tutorial. "
   ]
  },
  {
   "cell_type": "code",
   "execution_count": null,
   "metadata": {},
   "outputs": [],
   "source": [
    "filename = 'data/tutorial_4_freq_range.nc'\n",
    "results = wot.read_netcdf(filename)\n",
    "\n",
    "excited_freq = abs(results['pos']).argmax()\n",
    "normalized_freq = results['freq']/results['freq'][excited_freq]\n",
    "\n",
    "fig, ax = plt.subplots(5,1,figsize=(8, 12))\n",
    "ax[0].stem(normalized_freq,abs(results['exc_force']))\n",
    "ax[0].set_ylabel('Excitation Torque [N-m]')\n",
    "ax[1].stem(normalized_freq,abs(results['pos']))\n",
    "ax[1].set_ylabel('WEC Position [rad]')\n",
    "ax[2].stem(normalized_freq,abs(results['vel']))\n",
    "ax[2].set_ylabel('WEC Velocity [rad/s]')\n",
    "ax[3].stem(normalized_freq,abs(results['pto_force']))\n",
    "ax[3].set_ylabel('PTO Torque [N-m]')\n",
    "ax[4].stem(normalized_freq,abs(results['power']))\n",
    "ax[4].set_ylabel('Electrical Power [W]')\n",
    "ax[4].set_xlabel('Frequency (normalized according to excited frequency)')"
   ]
  },
  {
   "cell_type": "markdown",
   "metadata": {},
   "source": [
    "After determining a frequency range of interest, it is important to make sure enough frequencies are included in the array to generate accurate results.\n",
    "The Pioneer WEC has a very narrow banded response, which means it requires a large number of frequencies to model the response accurately.\n",
    "For any WecOptTool analysis in irregular wave conditions, it is best to complete a convergence study on the number of frequencies in the wave conditions of interest.\n",
    "The convergence study shown below varies the number of frequencies and includes enough realizations of each array to reach a 20 minute total simulation time (discussed further below).\n",
    "As shown below, an array of 150 frequencies is sufficient to model the system to within about 2% of the actual resultant mean power.\n",
    "Because the computation time increases with increasing number of frequencies, it is desirable to select the number of frequencies to minimize the computation time while meeting the intended accuracy."
   ]
  },
  {
   "cell_type": "code",
   "execution_count": null,
   "metadata": {},
   "outputs": [],
   "source": [
    "filename = 'data/tutorial_4_nfreqs.nc'\n",
    "results = wot.read_netcdf(filename)\n",
    "\n",
    "power_percent_error = abs((results['power'] - results['power'][-1])/results['power'][-1])*100\n",
    "time_per_realization = results['comp_time']/results['nrealizations']\n",
    "\n",
    "plt.figure()\n",
    "plt.plot(results['nfreqs'],power_percent_error)\n",
    "plt.xlabel('Number of Frequencies in Array')\n",
    "plt.ylabel('Absolute Mean Power Error [%]')\n",
    "\n",
    "plt.figure()\n",
    "plt.semilogy(results['nfreqs'],time_per_realization/60)\n",
    "plt.xlabel('Number of Frequencies in Array')\n",
    "plt.ylabel('Computation time per realization [min]')"
   ]
  },
  {
   "cell_type": "markdown",
   "metadata": {},
   "source": [
    "Next, the number of phase realizations should be considered.\n",
    "Generally, it is recommended that enough realizations be used for the total simulation time to equal 20 minutes. \n",
    "\n",
    "$$ t_{total} = \\frac{n_{realizations}}{f1} $$\n",
    "\n",
    "Although it usually leads to consistent results, this recommendation is somewhat arbitrary.\n",
    "To better understand the effect of the number of realizations on the overall result, it can be useful to complete a convergence study.\n",
    "The actual number of realizations needed depends on the problem itself (dynamics, constraints, etc.) and the desired precision of the result.\n",
    "As shown below, in the case of the Pioneer WEC, after about 15 realizations (20 minutes total simulation time) the result is within about 0.5% of the converged result which is deemed sufficient for this study."
   ]
  },
  {
   "cell_type": "code",
   "execution_count": null,
   "metadata": {},
   "outputs": [],
   "source": [
    "filename = 'data/tutorial_4_nrealizations.nc'\n",
    "results = wot.read_netcdf(filename)\n",
    "\n",
    "rolling_mean = []\n",
    "for ind in range(len(results['power'])):\n",
    "    rolling_mean.append(np.mean(results['power'][0:ind]))\n",
    "    \n",
    "error_bar = rolling_mean[-1]*.005\n",
    "\n",
    "fig = plt.figure()\n",
    "ax1 = fig.add_subplot(111)\n",
    "ax2 = ax1.twiny()\n",
    "ax1.plot(results['realization'],rolling_mean,label='Rolling Mean')\n",
    "ax1.set_xlabel('Number of Realizations')\n",
    "ax1.set_ylabel('Average Power [W]')\n",
    "ax1.axhline(rolling_mean[-1]+error_bar,ls='--',label='0.5% error')\n",
    "ax1.axhline(rolling_mean[-1]-error_bar,ls='--')\n",
    "ax1.legend()\n",
    "\n",
    "tper_realization = (results['nfreq']/results['fend']).values # time per realization\n",
    "\n",
    "def tick_function(X):\n",
    "    V = tper_realization*X/60\n",
    "    return [\"%.1f\" % z for z in V]\n",
    "\n",
    "ax2.set_xticks(ax1.get_xticks())\n",
    "ax2.set_xbound(ax1.get_xbound())\n",
    "ax2.set_xticklabels(tick_function(ax1.get_xticks()))\n",
    "ax2.set_xlabel('Total simulation time [min]')"
   ]
  }
 ],
 "metadata": {
  "kernelspec": {
   "display_name": "wot_dev",
   "language": "python",
   "name": "python3"
  },
  "language_info": {
   "codemirror_mode": {
    "name": "ipython",
    "version": 3
   },
   "file_extension": ".py",
   "mimetype": "text/x-python",
   "name": "python",
   "nbconvert_exporter": "python",
   "pygments_lexer": "ipython3",
   "version": "3.11.7"
  }
 },
 "nbformat": 4,
 "nbformat_minor": 2
}
